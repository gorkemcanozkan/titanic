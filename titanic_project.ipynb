{
  "nbformat": 4,
  "nbformat_minor": 0,
  "metadata": {
    "kernelspec": {
      "language": "python",
      "display_name": "Python 3",
      "name": "python3"
    },
    "language_info": {
      "pygments_lexer": "ipython3",
      "nbconvert_exporter": "python",
      "version": "3.6.4",
      "file_extension": ".py",
      "codemirror_mode": {
        "name": "ipython",
        "version": 3
      },
      "name": "python",
      "mimetype": "text/x-python"
    },
    "colab": {
      "name": "titanic-project-with-different-ml-algorithms.ipynb",
      "provenance": [],
      "collapsed_sections": [
        "xQsyBGla1pgG",
        "w8guvnRI1pgH",
        "bs18sGOB1pgH",
        "ZfWQNBfW1pgI",
        "rS4BNFey1pgJ",
        "vsCyRMWb1pgJ",
        "kM0c_DjK1pgK",
        "iI_0MN471pgK",
        "BlywdcGE1pgL",
        "nBoyz56g1pgM"
      ],
      "toc_visible": true
    }
  },
  "cells": [
    {
      "cell_type": "markdown",
      "metadata": {
        "id": "Fz1MDibB1pft"
      },
      "source": [
        "# Titanic Project Classification\n",
        "In this notebook, I tried to show the relationship between variables and classify who survived and  who couldn't survive."
      ]
    },
    {
      "cell_type": "code",
      "metadata": {
        "execution": {
          "iopub.status.busy": "2021-05-22T08:56:30.840339Z",
          "iopub.execute_input": "2021-05-22T08:56:30.840834Z",
          "iopub.status.idle": "2021-05-22T08:56:53.370719Z",
          "shell.execute_reply.started": "2021-05-22T08:56:30.840792Z",
          "shell.execute_reply": "2021-05-22T08:56:53.369555Z"
        },
        "trusted": true,
        "colab": {
          "base_uri": "https://localhost:8080/"
        },
        "id": "NQMW9vKD1pfz",
        "outputId": "485f01ad-e4e5-4793-be4a-7f4356179273"
      },
      "source": [
        "!pip install  xgboost==1.4.1"
      ],
      "execution_count": 1,
      "outputs": [
        {
          "output_type": "stream",
          "text": [
            "Collecting xgboost==1.4.1\n",
            "\u001b[?25l  Downloading https://files.pythonhosted.org/packages/23/88/f52938e30f84ae662b4a0bc63cafc095fb3e38ca2ec188b8a863f8e2c016/xgboost-1.4.1-py3-none-manylinux2010_x86_64.whl (166.7MB)\n",
            "\u001b[K     |████████████████████████████████| 166.7MB 74kB/s \n",
            "\u001b[?25hRequirement already satisfied: numpy in /usr/local/lib/python3.7/dist-packages (from xgboost==1.4.1) (1.19.5)\n",
            "Requirement already satisfied: scipy in /usr/local/lib/python3.7/dist-packages (from xgboost==1.4.1) (1.4.1)\n",
            "Installing collected packages: xgboost\n",
            "  Found existing installation: xgboost 0.90\n",
            "    Uninstalling xgboost-0.90:\n",
            "      Successfully uninstalled xgboost-0.90\n",
            "Successfully installed xgboost-1.4.1\n"
          ],
          "name": "stdout"
        }
      ]
    },
    {
      "cell_type": "code",
      "metadata": {
        "execution": {
          "iopub.status.busy": "2021-05-22T08:56:53.372424Z",
          "iopub.execute_input": "2021-05-22T08:56:53.372718Z",
          "iopub.status.idle": "2021-05-22T08:56:54.627902Z",
          "shell.execute_reply.started": "2021-05-22T08:56:53.372682Z",
          "shell.execute_reply": "2021-05-22T08:56:54.626838Z"
        },
        "trusted": true,
        "id": "h0mZn9np1pf0"
      },
      "source": [
        "# Importing the dependencies\n",
        "import seaborn as sns\n",
        "import matplotlib.pyplot as plt\n",
        "import numpy as np\n",
        "import pandas as pd\n",
        "from sklearn.preprocessing import OneHotEncoder\n",
        "import re\n",
        "from sklearn.ensemble import GradientBoostingClassifier\n",
        "from sklearn.linear_model import LogisticRegression\n",
        "from  xgboost import XGBClassifier\n",
        "from sklearn.ensemble import RandomForestClassifier\n",
        "from sklearn.svm import SVC\n",
        "from sklearn.naive_bayes import GaussianNB\n",
        "from sklearn.tree import DecisionTreeClassifier\n",
        "from sklearn.neighbors import KNeighborsClassifier\n",
        "import os\n",
        "import warnings\n",
        "from termcolor import cprint\n",
        "warnings.filterwarnings('ignore')\n",
        "%matplotlib inline\n",
        "sns.set_style(\"darkgrid\")"
      ],
      "execution_count": 2,
      "outputs": []
    },
    {
      "cell_type": "code",
      "metadata": {
        "execution": {
          "iopub.status.busy": "2021-05-22T08:57:12.061163Z",
          "iopub.execute_input": "2021-05-22T08:57:12.061526Z",
          "iopub.status.idle": "2021-05-22T08:57:12.084363Z",
          "shell.execute_reply.started": "2021-05-22T08:57:12.061493Z",
          "shell.execute_reply": "2021-05-22T08:57:12.083291Z"
        },
        "trusted": true,
        "id": "eUZ4R7xn1pf1"
      },
      "source": [
        "#Importing  datasets\n",
        "\n",
        "train = pd.read_csv('train.csv') \n",
        "\n",
        "test  = pd.read_csv('test.csv')\n",
        "\n",
        "dataset = train.append(test, ignore_index=True) #combining train and test data to preprocessing data easier"
      ],
      "execution_count": 3,
      "outputs": []
    },
    {
      "cell_type": "markdown",
      "metadata": {
        "id": "sCBRqHV21pf2"
      },
      "source": [
        "# Understanding The Data \n",
        "In this part, I tried to get a background of the data that I am going to use like what the data types are, how many missing values our data have, and describe the numeric variables."
      ]
    },
    {
      "cell_type": "code",
      "metadata": {
        "execution": {
          "iopub.status.busy": "2021-05-22T08:57:15.726343Z",
          "iopub.execute_input": "2021-05-22T08:57:15.726696Z",
          "iopub.status.idle": "2021-05-22T08:57:15.754048Z",
          "shell.execute_reply.started": "2021-05-22T08:57:15.726661Z",
          "shell.execute_reply": "2021-05-22T08:57:15.752828Z"
        },
        "trusted": true,
        "colab": {
          "base_uri": "https://localhost:8080/",
          "height": 255
        },
        "id": "itwrHmdZ1pf2",
        "outputId": "78a8a3f5-90f7-46ce-f234-eeadf185ae4e"
      },
      "source": [
        "# Showing first samples of train set\n",
        "train.head()"
      ],
      "execution_count": 4,
      "outputs": [
        {
          "output_type": "execute_result",
          "data": {
            "text/html": [
              "<div>\n",
              "<style scoped>\n",
              "    .dataframe tbody tr th:only-of-type {\n",
              "        vertical-align: middle;\n",
              "    }\n",
              "\n",
              "    .dataframe tbody tr th {\n",
              "        vertical-align: top;\n",
              "    }\n",
              "\n",
              "    .dataframe thead th {\n",
              "        text-align: right;\n",
              "    }\n",
              "</style>\n",
              "<table border=\"1\" class=\"dataframe\">\n",
              "  <thead>\n",
              "    <tr style=\"text-align: right;\">\n",
              "      <th></th>\n",
              "      <th>PassengerId</th>\n",
              "      <th>Survived</th>\n",
              "      <th>Pclass</th>\n",
              "      <th>Name</th>\n",
              "      <th>Sex</th>\n",
              "      <th>Age</th>\n",
              "      <th>SibSp</th>\n",
              "      <th>Parch</th>\n",
              "      <th>Ticket</th>\n",
              "      <th>Fare</th>\n",
              "      <th>Cabin</th>\n",
              "      <th>Embarked</th>\n",
              "    </tr>\n",
              "  </thead>\n",
              "  <tbody>\n",
              "    <tr>\n",
              "      <th>0</th>\n",
              "      <td>1</td>\n",
              "      <td>0</td>\n",
              "      <td>3</td>\n",
              "      <td>Braund, Mr. Owen Harris</td>\n",
              "      <td>male</td>\n",
              "      <td>22.0</td>\n",
              "      <td>1</td>\n",
              "      <td>0</td>\n",
              "      <td>A/5 21171</td>\n",
              "      <td>7.2500</td>\n",
              "      <td>NaN</td>\n",
              "      <td>S</td>\n",
              "    </tr>\n",
              "    <tr>\n",
              "      <th>1</th>\n",
              "      <td>2</td>\n",
              "      <td>1</td>\n",
              "      <td>1</td>\n",
              "      <td>Cumings, Mrs. John Bradley (Florence Briggs Th...</td>\n",
              "      <td>female</td>\n",
              "      <td>38.0</td>\n",
              "      <td>1</td>\n",
              "      <td>0</td>\n",
              "      <td>PC 17599</td>\n",
              "      <td>71.2833</td>\n",
              "      <td>C85</td>\n",
              "      <td>C</td>\n",
              "    </tr>\n",
              "    <tr>\n",
              "      <th>2</th>\n",
              "      <td>3</td>\n",
              "      <td>1</td>\n",
              "      <td>3</td>\n",
              "      <td>Heikkinen, Miss. Laina</td>\n",
              "      <td>female</td>\n",
              "      <td>26.0</td>\n",
              "      <td>0</td>\n",
              "      <td>0</td>\n",
              "      <td>STON/O2. 3101282</td>\n",
              "      <td>7.9250</td>\n",
              "      <td>NaN</td>\n",
              "      <td>S</td>\n",
              "    </tr>\n",
              "    <tr>\n",
              "      <th>3</th>\n",
              "      <td>4</td>\n",
              "      <td>1</td>\n",
              "      <td>1</td>\n",
              "      <td>Futrelle, Mrs. Jacques Heath (Lily May Peel)</td>\n",
              "      <td>female</td>\n",
              "      <td>35.0</td>\n",
              "      <td>1</td>\n",
              "      <td>0</td>\n",
              "      <td>113803</td>\n",
              "      <td>53.1000</td>\n",
              "      <td>C123</td>\n",
              "      <td>S</td>\n",
              "    </tr>\n",
              "    <tr>\n",
              "      <th>4</th>\n",
              "      <td>5</td>\n",
              "      <td>0</td>\n",
              "      <td>3</td>\n",
              "      <td>Allen, Mr. William Henry</td>\n",
              "      <td>male</td>\n",
              "      <td>35.0</td>\n",
              "      <td>0</td>\n",
              "      <td>0</td>\n",
              "      <td>373450</td>\n",
              "      <td>8.0500</td>\n",
              "      <td>NaN</td>\n",
              "      <td>S</td>\n",
              "    </tr>\n",
              "  </tbody>\n",
              "</table>\n",
              "</div>"
            ],
            "text/plain": [
              "   PassengerId  Survived  Pclass  ...     Fare Cabin  Embarked\n",
              "0            1         0       3  ...   7.2500   NaN         S\n",
              "1            2         1       1  ...  71.2833   C85         C\n",
              "2            3         1       3  ...   7.9250   NaN         S\n",
              "3            4         1       1  ...  53.1000  C123         S\n",
              "4            5         0       3  ...   8.0500   NaN         S\n",
              "\n",
              "[5 rows x 12 columns]"
            ]
          },
          "metadata": {
            "tags": []
          },
          "execution_count": 4
        }
      ]
    },
    {
      "cell_type": "code",
      "metadata": {
        "execution": {
          "iopub.status.busy": "2021-05-22T08:57:41.011191Z",
          "iopub.execute_input": "2021-05-22T08:57:41.011636Z",
          "iopub.status.idle": "2021-05-22T08:57:41.02614Z",
          "shell.execute_reply.started": "2021-05-22T08:57:41.011591Z",
          "shell.execute_reply": "2021-05-22T08:57:41.025373Z"
        },
        "trusted": true,
        "colab": {
          "base_uri": "https://localhost:8080/",
          "height": 221
        },
        "id": "JHNgFCG_1pf2",
        "outputId": "91d17b3f-f98e-493c-af68-16f80c77d1ef"
      },
      "source": [
        "train.tail()"
      ],
      "execution_count": 5,
      "outputs": [
        {
          "output_type": "execute_result",
          "data": {
            "text/html": [
              "<div>\n",
              "<style scoped>\n",
              "    .dataframe tbody tr th:only-of-type {\n",
              "        vertical-align: middle;\n",
              "    }\n",
              "\n",
              "    .dataframe tbody tr th {\n",
              "        vertical-align: top;\n",
              "    }\n",
              "\n",
              "    .dataframe thead th {\n",
              "        text-align: right;\n",
              "    }\n",
              "</style>\n",
              "<table border=\"1\" class=\"dataframe\">\n",
              "  <thead>\n",
              "    <tr style=\"text-align: right;\">\n",
              "      <th></th>\n",
              "      <th>PassengerId</th>\n",
              "      <th>Survived</th>\n",
              "      <th>Pclass</th>\n",
              "      <th>Name</th>\n",
              "      <th>Sex</th>\n",
              "      <th>Age</th>\n",
              "      <th>SibSp</th>\n",
              "      <th>Parch</th>\n",
              "      <th>Ticket</th>\n",
              "      <th>Fare</th>\n",
              "      <th>Cabin</th>\n",
              "      <th>Embarked</th>\n",
              "    </tr>\n",
              "  </thead>\n",
              "  <tbody>\n",
              "    <tr>\n",
              "      <th>886</th>\n",
              "      <td>887</td>\n",
              "      <td>0</td>\n",
              "      <td>2</td>\n",
              "      <td>Montvila, Rev. Juozas</td>\n",
              "      <td>male</td>\n",
              "      <td>27.0</td>\n",
              "      <td>0</td>\n",
              "      <td>0</td>\n",
              "      <td>211536</td>\n",
              "      <td>13.00</td>\n",
              "      <td>NaN</td>\n",
              "      <td>S</td>\n",
              "    </tr>\n",
              "    <tr>\n",
              "      <th>887</th>\n",
              "      <td>888</td>\n",
              "      <td>1</td>\n",
              "      <td>1</td>\n",
              "      <td>Graham, Miss. Margaret Edith</td>\n",
              "      <td>female</td>\n",
              "      <td>19.0</td>\n",
              "      <td>0</td>\n",
              "      <td>0</td>\n",
              "      <td>112053</td>\n",
              "      <td>30.00</td>\n",
              "      <td>B42</td>\n",
              "      <td>S</td>\n",
              "    </tr>\n",
              "    <tr>\n",
              "      <th>888</th>\n",
              "      <td>889</td>\n",
              "      <td>0</td>\n",
              "      <td>3</td>\n",
              "      <td>Johnston, Miss. Catherine Helen \"Carrie\"</td>\n",
              "      <td>female</td>\n",
              "      <td>NaN</td>\n",
              "      <td>1</td>\n",
              "      <td>2</td>\n",
              "      <td>W./C. 6607</td>\n",
              "      <td>23.45</td>\n",
              "      <td>NaN</td>\n",
              "      <td>S</td>\n",
              "    </tr>\n",
              "    <tr>\n",
              "      <th>889</th>\n",
              "      <td>890</td>\n",
              "      <td>1</td>\n",
              "      <td>1</td>\n",
              "      <td>Behr, Mr. Karl Howell</td>\n",
              "      <td>male</td>\n",
              "      <td>26.0</td>\n",
              "      <td>0</td>\n",
              "      <td>0</td>\n",
              "      <td>111369</td>\n",
              "      <td>30.00</td>\n",
              "      <td>C148</td>\n",
              "      <td>C</td>\n",
              "    </tr>\n",
              "    <tr>\n",
              "      <th>890</th>\n",
              "      <td>891</td>\n",
              "      <td>0</td>\n",
              "      <td>3</td>\n",
              "      <td>Dooley, Mr. Patrick</td>\n",
              "      <td>male</td>\n",
              "      <td>32.0</td>\n",
              "      <td>0</td>\n",
              "      <td>0</td>\n",
              "      <td>370376</td>\n",
              "      <td>7.75</td>\n",
              "      <td>NaN</td>\n",
              "      <td>Q</td>\n",
              "    </tr>\n",
              "  </tbody>\n",
              "</table>\n",
              "</div>"
            ],
            "text/plain": [
              "     PassengerId  Survived  Pclass  ...   Fare Cabin  Embarked\n",
              "886          887         0       2  ...  13.00   NaN         S\n",
              "887          888         1       1  ...  30.00   B42         S\n",
              "888          889         0       3  ...  23.45   NaN         S\n",
              "889          890         1       1  ...  30.00  C148         C\n",
              "890          891         0       3  ...   7.75   NaN         Q\n",
              "\n",
              "[5 rows x 12 columns]"
            ]
          },
          "metadata": {
            "tags": []
          },
          "execution_count": 5
        }
      ]
    },
    {
      "cell_type": "code",
      "metadata": {
        "execution": {
          "iopub.status.busy": "2021-05-22T08:57:16.030381Z",
          "iopub.execute_input": "2021-05-22T08:57:16.030723Z",
          "iopub.status.idle": "2021-05-22T08:57:16.052436Z",
          "shell.execute_reply.started": "2021-05-22T08:57:16.030692Z",
          "shell.execute_reply": "2021-05-22T08:57:16.051187Z"
        },
        "trusted": true,
        "colab": {
          "base_uri": "https://localhost:8080/",
          "height": 204
        },
        "id": "OFfcvXty1pf3",
        "outputId": "050ea520-fc57-40c4-f85d-4936b808d1ac"
      },
      "source": [
        "# Showing first samples of test data\n",
        "test.head()"
      ],
      "execution_count": 6,
      "outputs": [
        {
          "output_type": "execute_result",
          "data": {
            "text/html": [
              "<div>\n",
              "<style scoped>\n",
              "    .dataframe tbody tr th:only-of-type {\n",
              "        vertical-align: middle;\n",
              "    }\n",
              "\n",
              "    .dataframe tbody tr th {\n",
              "        vertical-align: top;\n",
              "    }\n",
              "\n",
              "    .dataframe thead th {\n",
              "        text-align: right;\n",
              "    }\n",
              "</style>\n",
              "<table border=\"1\" class=\"dataframe\">\n",
              "  <thead>\n",
              "    <tr style=\"text-align: right;\">\n",
              "      <th></th>\n",
              "      <th>PassengerId</th>\n",
              "      <th>Pclass</th>\n",
              "      <th>Name</th>\n",
              "      <th>Sex</th>\n",
              "      <th>Age</th>\n",
              "      <th>SibSp</th>\n",
              "      <th>Parch</th>\n",
              "      <th>Ticket</th>\n",
              "      <th>Fare</th>\n",
              "      <th>Cabin</th>\n",
              "      <th>Embarked</th>\n",
              "    </tr>\n",
              "  </thead>\n",
              "  <tbody>\n",
              "    <tr>\n",
              "      <th>0</th>\n",
              "      <td>892</td>\n",
              "      <td>3</td>\n",
              "      <td>Kelly, Mr. James</td>\n",
              "      <td>male</td>\n",
              "      <td>34.5</td>\n",
              "      <td>0</td>\n",
              "      <td>0</td>\n",
              "      <td>330911</td>\n",
              "      <td>7.8292</td>\n",
              "      <td>NaN</td>\n",
              "      <td>Q</td>\n",
              "    </tr>\n",
              "    <tr>\n",
              "      <th>1</th>\n",
              "      <td>893</td>\n",
              "      <td>3</td>\n",
              "      <td>Wilkes, Mrs. James (Ellen Needs)</td>\n",
              "      <td>female</td>\n",
              "      <td>47.0</td>\n",
              "      <td>1</td>\n",
              "      <td>0</td>\n",
              "      <td>363272</td>\n",
              "      <td>7.0000</td>\n",
              "      <td>NaN</td>\n",
              "      <td>S</td>\n",
              "    </tr>\n",
              "    <tr>\n",
              "      <th>2</th>\n",
              "      <td>894</td>\n",
              "      <td>2</td>\n",
              "      <td>Myles, Mr. Thomas Francis</td>\n",
              "      <td>male</td>\n",
              "      <td>62.0</td>\n",
              "      <td>0</td>\n",
              "      <td>0</td>\n",
              "      <td>240276</td>\n",
              "      <td>9.6875</td>\n",
              "      <td>NaN</td>\n",
              "      <td>Q</td>\n",
              "    </tr>\n",
              "    <tr>\n",
              "      <th>3</th>\n",
              "      <td>895</td>\n",
              "      <td>3</td>\n",
              "      <td>Wirz, Mr. Albert</td>\n",
              "      <td>male</td>\n",
              "      <td>27.0</td>\n",
              "      <td>0</td>\n",
              "      <td>0</td>\n",
              "      <td>315154</td>\n",
              "      <td>8.6625</td>\n",
              "      <td>NaN</td>\n",
              "      <td>S</td>\n",
              "    </tr>\n",
              "    <tr>\n",
              "      <th>4</th>\n",
              "      <td>896</td>\n",
              "      <td>3</td>\n",
              "      <td>Hirvonen, Mrs. Alexander (Helga E Lindqvist)</td>\n",
              "      <td>female</td>\n",
              "      <td>22.0</td>\n",
              "      <td>1</td>\n",
              "      <td>1</td>\n",
              "      <td>3101298</td>\n",
              "      <td>12.2875</td>\n",
              "      <td>NaN</td>\n",
              "      <td>S</td>\n",
              "    </tr>\n",
              "  </tbody>\n",
              "</table>\n",
              "</div>"
            ],
            "text/plain": [
              "   PassengerId  Pclass  ... Cabin Embarked\n",
              "0          892       3  ...   NaN        Q\n",
              "1          893       3  ...   NaN        S\n",
              "2          894       2  ...   NaN        Q\n",
              "3          895       3  ...   NaN        S\n",
              "4          896       3  ...   NaN        S\n",
              "\n",
              "[5 rows x 11 columns]"
            ]
          },
          "metadata": {
            "tags": []
          },
          "execution_count": 6
        }
      ]
    },
    {
      "cell_type": "code",
      "metadata": {
        "execution": {
          "iopub.status.busy": "2021-05-22T08:57:53.781243Z",
          "iopub.execute_input": "2021-05-22T08:57:53.781573Z",
          "iopub.status.idle": "2021-05-22T08:57:53.795914Z",
          "shell.execute_reply.started": "2021-05-22T08:57:53.781543Z",
          "shell.execute_reply": "2021-05-22T08:57:53.79484Z"
        },
        "trusted": true,
        "colab": {
          "base_uri": "https://localhost:8080/",
          "height": 204
        },
        "id": "S23ArZKL1pf3",
        "outputId": "906be1fc-4706-4359-e73a-13cec077a9eb"
      },
      "source": [
        "test.tail()"
      ],
      "execution_count": 7,
      "outputs": [
        {
          "output_type": "execute_result",
          "data": {
            "text/html": [
              "<div>\n",
              "<style scoped>\n",
              "    .dataframe tbody tr th:only-of-type {\n",
              "        vertical-align: middle;\n",
              "    }\n",
              "\n",
              "    .dataframe tbody tr th {\n",
              "        vertical-align: top;\n",
              "    }\n",
              "\n",
              "    .dataframe thead th {\n",
              "        text-align: right;\n",
              "    }\n",
              "</style>\n",
              "<table border=\"1\" class=\"dataframe\">\n",
              "  <thead>\n",
              "    <tr style=\"text-align: right;\">\n",
              "      <th></th>\n",
              "      <th>PassengerId</th>\n",
              "      <th>Pclass</th>\n",
              "      <th>Name</th>\n",
              "      <th>Sex</th>\n",
              "      <th>Age</th>\n",
              "      <th>SibSp</th>\n",
              "      <th>Parch</th>\n",
              "      <th>Ticket</th>\n",
              "      <th>Fare</th>\n",
              "      <th>Cabin</th>\n",
              "      <th>Embarked</th>\n",
              "    </tr>\n",
              "  </thead>\n",
              "  <tbody>\n",
              "    <tr>\n",
              "      <th>413</th>\n",
              "      <td>1305</td>\n",
              "      <td>3</td>\n",
              "      <td>Spector, Mr. Woolf</td>\n",
              "      <td>male</td>\n",
              "      <td>NaN</td>\n",
              "      <td>0</td>\n",
              "      <td>0</td>\n",
              "      <td>A.5. 3236</td>\n",
              "      <td>8.0500</td>\n",
              "      <td>NaN</td>\n",
              "      <td>S</td>\n",
              "    </tr>\n",
              "    <tr>\n",
              "      <th>414</th>\n",
              "      <td>1306</td>\n",
              "      <td>1</td>\n",
              "      <td>Oliva y Ocana, Dona. Fermina</td>\n",
              "      <td>female</td>\n",
              "      <td>39.0</td>\n",
              "      <td>0</td>\n",
              "      <td>0</td>\n",
              "      <td>PC 17758</td>\n",
              "      <td>108.9000</td>\n",
              "      <td>C105</td>\n",
              "      <td>C</td>\n",
              "    </tr>\n",
              "    <tr>\n",
              "      <th>415</th>\n",
              "      <td>1307</td>\n",
              "      <td>3</td>\n",
              "      <td>Saether, Mr. Simon Sivertsen</td>\n",
              "      <td>male</td>\n",
              "      <td>38.5</td>\n",
              "      <td>0</td>\n",
              "      <td>0</td>\n",
              "      <td>SOTON/O.Q. 3101262</td>\n",
              "      <td>7.2500</td>\n",
              "      <td>NaN</td>\n",
              "      <td>S</td>\n",
              "    </tr>\n",
              "    <tr>\n",
              "      <th>416</th>\n",
              "      <td>1308</td>\n",
              "      <td>3</td>\n",
              "      <td>Ware, Mr. Frederick</td>\n",
              "      <td>male</td>\n",
              "      <td>NaN</td>\n",
              "      <td>0</td>\n",
              "      <td>0</td>\n",
              "      <td>359309</td>\n",
              "      <td>8.0500</td>\n",
              "      <td>NaN</td>\n",
              "      <td>S</td>\n",
              "    </tr>\n",
              "    <tr>\n",
              "      <th>417</th>\n",
              "      <td>1309</td>\n",
              "      <td>3</td>\n",
              "      <td>Peter, Master. Michael J</td>\n",
              "      <td>male</td>\n",
              "      <td>NaN</td>\n",
              "      <td>1</td>\n",
              "      <td>1</td>\n",
              "      <td>2668</td>\n",
              "      <td>22.3583</td>\n",
              "      <td>NaN</td>\n",
              "      <td>C</td>\n",
              "    </tr>\n",
              "  </tbody>\n",
              "</table>\n",
              "</div>"
            ],
            "text/plain": [
              "     PassengerId  Pclass                          Name  ...      Fare  Cabin  Embarked\n",
              "413         1305       3            Spector, Mr. Woolf  ...    8.0500    NaN         S\n",
              "414         1306       1  Oliva y Ocana, Dona. Fermina  ...  108.9000   C105         C\n",
              "415         1307       3  Saether, Mr. Simon Sivertsen  ...    7.2500    NaN         S\n",
              "416         1308       3           Ware, Mr. Frederick  ...    8.0500    NaN         S\n",
              "417         1309       3      Peter, Master. Michael J  ...   22.3583    NaN         C\n",
              "\n",
              "[5 rows x 11 columns]"
            ]
          },
          "metadata": {
            "tags": []
          },
          "execution_count": 7
        }
      ]
    },
    {
      "cell_type": "code",
      "metadata": {
        "execution": {
          "iopub.status.busy": "2021-05-22T08:57:20.305943Z",
          "iopub.execute_input": "2021-05-22T08:57:20.306434Z",
          "iopub.status.idle": "2021-05-22T08:57:20.333829Z",
          "shell.execute_reply.started": "2021-05-22T08:57:20.306399Z",
          "shell.execute_reply": "2021-05-22T08:57:20.332919Z"
        },
        "trusted": true,
        "colab": {
          "base_uri": "https://localhost:8080/"
        },
        "id": "7XrE0X2K1pf4",
        "outputId": "cbd18b85-5abf-475a-e494-819050903e59"
      },
      "source": [
        "# Showing Count of null Values and Data type of Train & Test data\n",
        "train.info()\n",
        "\n",
        "cprint('*'*42,'green')  # print colorfull text with cprint \n",
        "\n",
        "test.info()"
      ],
      "execution_count": 8,
      "outputs": [
        {
          "output_type": "stream",
          "text": [
            "<class 'pandas.core.frame.DataFrame'>\n",
            "RangeIndex: 891 entries, 0 to 890\n",
            "Data columns (total 12 columns):\n",
            " #   Column       Non-Null Count  Dtype  \n",
            "---  ------       --------------  -----  \n",
            " 0   PassengerId  891 non-null    int64  \n",
            " 1   Survived     891 non-null    int64  \n",
            " 2   Pclass       891 non-null    int64  \n",
            " 3   Name         891 non-null    object \n",
            " 4   Sex          891 non-null    object \n",
            " 5   Age          714 non-null    float64\n",
            " 6   SibSp        891 non-null    int64  \n",
            " 7   Parch        891 non-null    int64  \n",
            " 8   Ticket       891 non-null    object \n",
            " 9   Fare         891 non-null    float64\n",
            " 10  Cabin        204 non-null    object \n",
            " 11  Embarked     889 non-null    object \n",
            "dtypes: float64(2), int64(5), object(5)\n",
            "memory usage: 83.7+ KB\n",
            "\u001b[32m******************************************\u001b[0m\n",
            "<class 'pandas.core.frame.DataFrame'>\n",
            "RangeIndex: 418 entries, 0 to 417\n",
            "Data columns (total 11 columns):\n",
            " #   Column       Non-Null Count  Dtype  \n",
            "---  ------       --------------  -----  \n",
            " 0   PassengerId  418 non-null    int64  \n",
            " 1   Pclass       418 non-null    int64  \n",
            " 2   Name         418 non-null    object \n",
            " 3   Sex          418 non-null    object \n",
            " 4   Age          332 non-null    float64\n",
            " 5   SibSp        418 non-null    int64  \n",
            " 6   Parch        418 non-null    int64  \n",
            " 7   Ticket       418 non-null    object \n",
            " 8   Fare         417 non-null    float64\n",
            " 9   Cabin        91 non-null     object \n",
            " 10  Embarked     418 non-null    object \n",
            "dtypes: float64(2), int64(4), object(5)\n",
            "memory usage: 36.0+ KB\n"
          ],
          "name": "stdout"
        }
      ]
    },
    {
      "cell_type": "code",
      "metadata": {
        "execution": {
          "iopub.status.busy": "2021-05-22T08:58:18.885855Z",
          "iopub.execute_input": "2021-05-22T08:58:18.886787Z",
          "iopub.status.idle": "2021-05-22T08:58:18.932007Z",
          "shell.execute_reply.started": "2021-05-22T08:58:18.886734Z",
          "shell.execute_reply": "2021-05-22T08:58:18.931321Z"
        },
        "trusted": true,
        "colab": {
          "base_uri": "https://localhost:8080/",
          "height": 297
        },
        "id": "IJt7M7QU1pf4",
        "outputId": "d13ec90c-eed8-47b9-cc37-78650d16acf8"
      },
      "source": [
        "# using .de\n",
        "scribe() to understand better  numeric data of train data\n",
        "train.describe()"
      ],
      "execution_count": 9,
      "outputs": [
        {
          "output_type": "execute_result",
          "data": {
            "text/html": [
              "<div>\n",
              "<style scoped>\n",
              "    .dataframe tbody tr th:only-of-type {\n",
              "        vertical-align: middle;\n",
              "    }\n",
              "\n",
              "    .dataframe tbody tr th {\n",
              "        vertical-align: top;\n",
              "    }\n",
              "\n",
              "    .dataframe thead th {\n",
              "        text-align: right;\n",
              "    }\n",
              "</style>\n",
              "<table border=\"1\" class=\"dataframe\">\n",
              "  <thead>\n",
              "    <tr style=\"text-align: right;\">\n",
              "      <th></th>\n",
              "      <th>PassengerId</th>\n",
              "      <th>Survived</th>\n",
              "      <th>Pclass</th>\n",
              "      <th>Age</th>\n",
              "      <th>SibSp</th>\n",
              "      <th>Parch</th>\n",
              "      <th>Fare</th>\n",
              "    </tr>\n",
              "  </thead>\n",
              "  <tbody>\n",
              "    <tr>\n",
              "      <th>count</th>\n",
              "      <td>891.000000</td>\n",
              "      <td>891.000000</td>\n",
              "      <td>891.000000</td>\n",
              "      <td>714.000000</td>\n",
              "      <td>891.000000</td>\n",
              "      <td>891.000000</td>\n",
              "      <td>891.000000</td>\n",
              "    </tr>\n",
              "    <tr>\n",
              "      <th>mean</th>\n",
              "      <td>446.000000</td>\n",
              "      <td>0.383838</td>\n",
              "      <td>2.308642</td>\n",
              "      <td>29.699118</td>\n",
              "      <td>0.523008</td>\n",
              "      <td>0.381594</td>\n",
              "      <td>32.204208</td>\n",
              "    </tr>\n",
              "    <tr>\n",
              "      <th>std</th>\n",
              "      <td>257.353842</td>\n",
              "      <td>0.486592</td>\n",
              "      <td>0.836071</td>\n",
              "      <td>14.526497</td>\n",
              "      <td>1.102743</td>\n",
              "      <td>0.806057</td>\n",
              "      <td>49.693429</td>\n",
              "    </tr>\n",
              "    <tr>\n",
              "      <th>min</th>\n",
              "      <td>1.000000</td>\n",
              "      <td>0.000000</td>\n",
              "      <td>1.000000</td>\n",
              "      <td>0.420000</td>\n",
              "      <td>0.000000</td>\n",
              "      <td>0.000000</td>\n",
              "      <td>0.000000</td>\n",
              "    </tr>\n",
              "    <tr>\n",
              "      <th>25%</th>\n",
              "      <td>223.500000</td>\n",
              "      <td>0.000000</td>\n",
              "      <td>2.000000</td>\n",
              "      <td>20.125000</td>\n",
              "      <td>0.000000</td>\n",
              "      <td>0.000000</td>\n",
              "      <td>7.910400</td>\n",
              "    </tr>\n",
              "    <tr>\n",
              "      <th>50%</th>\n",
              "      <td>446.000000</td>\n",
              "      <td>0.000000</td>\n",
              "      <td>3.000000</td>\n",
              "      <td>28.000000</td>\n",
              "      <td>0.000000</td>\n",
              "      <td>0.000000</td>\n",
              "      <td>14.454200</td>\n",
              "    </tr>\n",
              "    <tr>\n",
              "      <th>75%</th>\n",
              "      <td>668.500000</td>\n",
              "      <td>1.000000</td>\n",
              "      <td>3.000000</td>\n",
              "      <td>38.000000</td>\n",
              "      <td>1.000000</td>\n",
              "      <td>0.000000</td>\n",
              "      <td>31.000000</td>\n",
              "    </tr>\n",
              "    <tr>\n",
              "      <th>max</th>\n",
              "      <td>891.000000</td>\n",
              "      <td>1.000000</td>\n",
              "      <td>3.000000</td>\n",
              "      <td>80.000000</td>\n",
              "      <td>8.000000</td>\n",
              "      <td>6.000000</td>\n",
              "      <td>512.329200</td>\n",
              "    </tr>\n",
              "  </tbody>\n",
              "</table>\n",
              "</div>"
            ],
            "text/plain": [
              "       PassengerId    Survived      Pclass  ...       SibSp       Parch        Fare\n",
              "count   891.000000  891.000000  891.000000  ...  891.000000  891.000000  891.000000\n",
              "mean    446.000000    0.383838    2.308642  ...    0.523008    0.381594   32.204208\n",
              "std     257.353842    0.486592    0.836071  ...    1.102743    0.806057   49.693429\n",
              "min       1.000000    0.000000    1.000000  ...    0.000000    0.000000    0.000000\n",
              "25%     223.500000    0.000000    2.000000  ...    0.000000    0.000000    7.910400\n",
              "50%     446.000000    0.000000    3.000000  ...    0.000000    0.000000   14.454200\n",
              "75%     668.500000    1.000000    3.000000  ...    1.000000    0.000000   31.000000\n",
              "max     891.000000    1.000000    3.000000  ...    8.000000    6.000000  512.329200\n",
              "\n",
              "[8 rows x 7 columns]"
            ]
          },
          "metadata": {
            "tags": []
          },
          "execution_count": 9
        }
      ]
    },
    {
      "cell_type": "code",
      "metadata": {
        "execution": {
          "iopub.status.busy": "2021-05-22T08:58:19.325698Z",
          "iopub.execute_input": "2021-05-22T08:58:19.326172Z",
          "iopub.status.idle": "2021-05-22T08:58:19.353252Z",
          "shell.execute_reply.started": "2021-05-22T08:58:19.326129Z",
          "shell.execute_reply": "2021-05-22T08:58:19.352397Z"
        },
        "trusted": true,
        "id": "K64KLxpL1pf4"
      },
      "source": [
        "\n",
        "# using .describe() to understand better numeric data of test data\n",
        "test.describe()"
      ],
      "execution_count": null,
      "outputs": []
    },
    {
      "cell_type": "code",
      "metadata": {
        "execution": {
          "iopub.status.busy": "2021-05-22T08:58:36.731139Z",
          "iopub.execute_input": "2021-05-22T08:58:36.731578Z",
          "iopub.status.idle": "2021-05-22T08:58:36.766551Z",
          "shell.execute_reply.started": "2021-05-22T08:58:36.731543Z",
          "shell.execute_reply": "2021-05-22T08:58:36.765634Z"
        },
        "trusted": true,
        "colab": {
          "base_uri": "https://localhost:8080/",
          "height": 235
        },
        "id": "5uKsOkFo1pf5",
        "outputId": "db930ac1-6391-4116-9d7f-c5a5b58b3605"
      },
      "source": [
        "test.describe().T"
      ],
      "execution_count": 10,
      "outputs": [
        {
          "output_type": "execute_result",
          "data": {
            "text/html": [
              "<div>\n",
              "<style scoped>\n",
              "    .dataframe tbody tr th:only-of-type {\n",
              "        vertical-align: middle;\n",
              "    }\n",
              "\n",
              "    .dataframe tbody tr th {\n",
              "        vertical-align: top;\n",
              "    }\n",
              "\n",
              "    .dataframe thead th {\n",
              "        text-align: right;\n",
              "    }\n",
              "</style>\n",
              "<table border=\"1\" class=\"dataframe\">\n",
              "  <thead>\n",
              "    <tr style=\"text-align: right;\">\n",
              "      <th></th>\n",
              "      <th>count</th>\n",
              "      <th>mean</th>\n",
              "      <th>std</th>\n",
              "      <th>min</th>\n",
              "      <th>25%</th>\n",
              "      <th>50%</th>\n",
              "      <th>75%</th>\n",
              "      <th>max</th>\n",
              "    </tr>\n",
              "  </thead>\n",
              "  <tbody>\n",
              "    <tr>\n",
              "      <th>PassengerId</th>\n",
              "      <td>418.0</td>\n",
              "      <td>1100.500000</td>\n",
              "      <td>120.810458</td>\n",
              "      <td>892.00</td>\n",
              "      <td>996.2500</td>\n",
              "      <td>1100.5000</td>\n",
              "      <td>1204.75</td>\n",
              "      <td>1309.0000</td>\n",
              "    </tr>\n",
              "    <tr>\n",
              "      <th>Pclass</th>\n",
              "      <td>418.0</td>\n",
              "      <td>2.265550</td>\n",
              "      <td>0.841838</td>\n",
              "      <td>1.00</td>\n",
              "      <td>1.0000</td>\n",
              "      <td>3.0000</td>\n",
              "      <td>3.00</td>\n",
              "      <td>3.0000</td>\n",
              "    </tr>\n",
              "    <tr>\n",
              "      <th>Age</th>\n",
              "      <td>332.0</td>\n",
              "      <td>30.272590</td>\n",
              "      <td>14.181209</td>\n",
              "      <td>0.17</td>\n",
              "      <td>21.0000</td>\n",
              "      <td>27.0000</td>\n",
              "      <td>39.00</td>\n",
              "      <td>76.0000</td>\n",
              "    </tr>\n",
              "    <tr>\n",
              "      <th>SibSp</th>\n",
              "      <td>418.0</td>\n",
              "      <td>0.447368</td>\n",
              "      <td>0.896760</td>\n",
              "      <td>0.00</td>\n",
              "      <td>0.0000</td>\n",
              "      <td>0.0000</td>\n",
              "      <td>1.00</td>\n",
              "      <td>8.0000</td>\n",
              "    </tr>\n",
              "    <tr>\n",
              "      <th>Parch</th>\n",
              "      <td>418.0</td>\n",
              "      <td>0.392344</td>\n",
              "      <td>0.981429</td>\n",
              "      <td>0.00</td>\n",
              "      <td>0.0000</td>\n",
              "      <td>0.0000</td>\n",
              "      <td>0.00</td>\n",
              "      <td>9.0000</td>\n",
              "    </tr>\n",
              "    <tr>\n",
              "      <th>Fare</th>\n",
              "      <td>417.0</td>\n",
              "      <td>35.627188</td>\n",
              "      <td>55.907576</td>\n",
              "      <td>0.00</td>\n",
              "      <td>7.8958</td>\n",
              "      <td>14.4542</td>\n",
              "      <td>31.50</td>\n",
              "      <td>512.3292</td>\n",
              "    </tr>\n",
              "  </tbody>\n",
              "</table>\n",
              "</div>"
            ],
            "text/plain": [
              "             count         mean         std  ...        50%      75%        max\n",
              "PassengerId  418.0  1100.500000  120.810458  ...  1100.5000  1204.75  1309.0000\n",
              "Pclass       418.0     2.265550    0.841838  ...     3.0000     3.00     3.0000\n",
              "Age          332.0    30.272590   14.181209  ...    27.0000    39.00    76.0000\n",
              "SibSp        418.0     0.447368    0.896760  ...     0.0000     1.00     8.0000\n",
              "Parch        418.0     0.392344    0.981429  ...     0.0000     0.00     9.0000\n",
              "Fare         417.0    35.627188   55.907576  ...    14.4542    31.50   512.3292\n",
              "\n",
              "[6 rows x 8 columns]"
            ]
          },
          "metadata": {
            "tags": []
          },
          "execution_count": 10
        }
      ]
    },
    {
      "cell_type": "code",
      "metadata": {
        "execution": {
          "iopub.status.busy": "2021-05-22T08:58:39.205592Z",
          "iopub.execute_input": "2021-05-22T08:58:39.206108Z",
          "iopub.status.idle": "2021-05-22T08:58:39.771451Z",
          "shell.execute_reply.started": "2021-05-22T08:58:39.206058Z",
          "shell.execute_reply": "2021-05-22T08:58:39.770491Z"
        },
        "trusted": true,
        "colab": {
          "base_uri": "https://localhost:8080/",
          "height": 1000
        },
        "id": "zNLqehBk1pf5",
        "outputId": "201e7405-236a-4f73-cf9a-caea3ed8d2c9"
      },
      "source": [
        "cprint('Null Values in Training Data :','green')\n",
        "print(train.isnull().sum()) # showing null values of train data\n",
        "cprint('Null Values in Test Data :','green')\n",
        "print(test.isnull().sum()) # showing null values  of test data\n",
        "\n",
        "plt.figure(figsize=(18,18))\n",
        "\n",
        "# using .heatmap() from seaborn to visualize null values\n",
        "plt.subplot(221)\n",
        "sns.heatmap(train.isnull(), yticklabels = False, cmap='plasma')\n",
        "plt.title('Null Values Of Train Data ',size=15);\n",
        "plt.subplot(222)\n",
        "sns.heatmap(test.isnull(), yticklabels = False)\n",
        "plt.title('Null Values Of Test Data',size=15);"
      ],
      "execution_count": 11,
      "outputs": [
        {
          "output_type": "stream",
          "text": [
            "\u001b[32mNull Values in Training Data :\u001b[0m\n",
            "PassengerId      0\n",
            "Survived         0\n",
            "Pclass           0\n",
            "Name             0\n",
            "Sex              0\n",
            "Age            177\n",
            "SibSp            0\n",
            "Parch            0\n",
            "Ticket           0\n",
            "Fare             0\n",
            "Cabin          687\n",
            "Embarked         2\n",
            "dtype: int64\n",
            "\u001b[32mNull Values in Test Data :\u001b[0m\n",
            "PassengerId      0\n",
            "Pclass           0\n",
            "Name             0\n",
            "Sex              0\n",
            "Age             86\n",
            "SibSp            0\n",
            "Parch            0\n",
            "Ticket           0\n",
            "Fare             1\n",
            "Cabin          327\n",
            "Embarked         0\n",
            "dtype: int64\n"
          ],
          "name": "stdout"
        },
        {
          "output_type": "display_data",
          "data": {
            "image/png": "[encoded data removed]",
            "text/plain": [
              "<Figure size 1296x1296 with 4 Axes>"
            ]
          },
          "metadata": {
            "tags": []
          }
        }
      ]
    },
    {
      "cell_type": "markdown",
      "metadata": {
        "id": "Hv4K7KXJ1pf6"
      },
      "source": [
        "# Data Visualization"
      ]
    },
    {
      "cell_type": "code",
      "metadata": {
        "execution": {
          "iopub.status.busy": "2021-05-22T08:58:39.87558Z",
          "iopub.execute_input": "2021-05-22T08:58:39.876031Z",
          "iopub.status.idle": "2021-05-22T08:58:40.161109Z",
          "shell.execute_reply.started": "2021-05-22T08:58:39.875996Z",
          "shell.execute_reply": "2021-05-22T08:58:40.160177Z"
        },
        "trusted": true,
        "colab": {
          "base_uri": "https://localhost:8080/",
          "height": 574
        },
        "id": "6JpbN1z91pf6",
        "outputId": "771a709b-4beb-4b25-d729-ec375ffccfc3"
      },
      "source": [
        "cprint('Percent Of Survived :','green')\n",
        "#Showing  Percentage of survivors of Both gender Male/Female\n",
        "print(train[['Sex', 'Survived']].groupby(['Sex'], as_index=False).mean().sort_values(by='Survived', ascending=False))\n",
        "\n",
        "cprint('Count Of Male/Female :','green')\n",
        "#Showing  Count of Both gender Male/Female\n",
        "print(train.groupby('Sex').size())\n",
        "\n",
        "fig, (axis1,axis2) = plt.subplots(1,2,figsize=(14,6))\n",
        "\n",
        "#Using .countplot() from seaborn to visualize  Count of each gender and survived percent\n",
        "sns.countplot(x = 'Survived', hue='Sex', data=train, ax =  axis1)\n",
        "axis2.set_title('Number of passenger Survived By Gender')\n",
        "\n",
        "sns.countplot(x='Sex',data=train,hue='Sex', ax = axis2)\n",
        "axis1.set_title('Number of passenger did/didnt Survived By Gender')"
      ],
      "execution_count": 12,
      "outputs": [
        {
          "output_type": "stream",
          "text": [
            "\u001b[32mPercent Of Survived :\u001b[0m\n",
            "      Sex  Survived\n",
            "0  female  0.742038\n",
            "1    male  0.188908\n",
            "\u001b[32mCount Of Male/Female :\u001b[0m\n",
            "Sex\n",
            "female    314\n",
            "male      577\n",
            "dtype: int64\n"
          ],
          "name": "stdout"
        },
        {
          "output_type": "execute_result",
          "data": {
            "text/plain": [
              "Text(0.5, 1.0, 'Number of passenger did/didnt Survived By Gender')"
            ]
          },
          "metadata": {
            "tags": []
          },
          "execution_count": 12
        },
        {
          "output_type": "display_data",
          "data": {
            "image/png": "[encoded data removed]",
            "text/plain": [
              "<Figure size 1008x432 with 2 Axes>"
            ]
          },
          "metadata": {
            "tags": []
          }
        }
      ]
    },
    {
      "cell_type": "code",
      "metadata": {
        "execution": {
          "iopub.status.busy": "2021-05-22T08:58:40.235467Z",
          "iopub.execute_input": "2021-05-22T08:58:40.235822Z",
          "iopub.status.idle": "2021-05-22T08:58:40.919625Z",
          "shell.execute_reply.started": "2021-05-22T08:58:40.235787Z",
          "shell.execute_reply": "2021-05-22T08:58:40.91885Z"
        },
        "trusted": true,
        "colab": {
          "base_uri": "https://localhost:8080/",
          "height": 376
        },
        "id": "iUHrDozl1pf7",
        "outputId": "1b231bb9-934a-4cb9-b789-0c5b1e7d465f"
      },
      "source": [
        "#Using .catplot() from  seaborn to  visualize count of survived gender  in each Pclass\n",
        "sns.catplot(x = 'Sex', y = 'Survived', data = train, kind = 'bar', col = 'Pclass')"
      ],
      "execution_count": 13,
      "outputs": [
        {
          "output_type": "execute_result",
          "data": {
            "text/plain": [
              "<seaborn.axisgrid.FacetGrid at 0x7fa45ddd1c50>"
            ]
          },
          "metadata": {
            "tags": []
          },
          "execution_count": 13
        },
        {
          "output_type": "display_data",
          "data": {
            "image/png": "[encoded data removed]",
            "text/plain": [
              "<Figure size 1080x360 with 3 Axes>"
            ]
          },
          "metadata": {
            "tags": []
          }
        }
      ]
    },
    {
      "cell_type": "code",
      "metadata": {
        "execution": {
          "iopub.status.busy": "2021-05-22T08:58:40.9207Z",
          "iopub.execute_input": "2021-05-22T08:58:40.921046Z",
          "iopub.status.idle": "2021-05-22T08:58:41.235511Z",
          "shell.execute_reply.started": "2021-05-22T08:58:40.921019Z",
          "shell.execute_reply": "2021-05-22T08:58:41.234557Z"
        },
        "trusted": true,
        "colab": {
          "base_uri": "https://localhost:8080/",
          "height": 608
        },
        "id": "CsZDDaVf1pf8",
        "outputId": "1aa27ba8-28bd-4b6e-9fb1-eb602097bfe3"
      },
      "source": [
        "cprint('Percent Of Survived :','green')\n",
        "\n",
        "#Showing  Percentage of survivors of Each Embarked\n",
        "print(train[['Embarked', 'Survived']].groupby(['Embarked'], as_index=False).mean().sort_values(by='Survived', ascending=False))\n",
        "\n",
        "cprint('Count Of Each Embarked  :','green')\n",
        "\n",
        "#Showing  Count  of Pepole  of Each Embarked\n",
        "print(train.groupby('Embarked').size())\n",
        "\n",
        "fig, (axis1,axis2) = plt.subplots(1,2,figsize=(14,6))\n",
        "\n",
        "#Showing  count of survived of Each Embarked\n",
        "sns.countplot('Embarked', hue = 'Survived', data = train,ax=axis1)\n",
        "axis1.set_title('Number of passenger did/didnt Survived in each Pclass')\n",
        "sns.countplot(x='Survived',data=train,hue='Embarked', ax = axis2)\n",
        "axis2.set_title('Number of passenger Survived in each Pclass')\n"
      ],
      "execution_count": 14,
      "outputs": [
        {
          "output_type": "stream",
          "text": [
            "\u001b[32mPercent Of Survived :\u001b[0m\n",
            "  Embarked  Survived\n",
            "0        C  0.553571\n",
            "1        Q  0.389610\n",
            "2        S  0.336957\n",
            "\u001b[32mCount Of Each Embarked  :\u001b[0m\n",
            "Embarked\n",
            "C    168\n",
            "Q     77\n",
            "S    644\n",
            "dtype: int64\n"
          ],
          "name": "stdout"
        },
        {
          "output_type": "execute_result",
          "data": {
            "text/plain": [
              "Text(0.5, 1.0, 'Number of passenger Survived in each Pclass')"
            ]
          },
          "metadata": {
            "tags": []
          },
          "execution_count": 14
        },
        {
          "output_type": "display_data",
          "data": {
            "image/png": "[encoded data removed]",
            "text/plain": [
              "<Figure size 1008x432 with 2 Axes>"
            ]
          },
          "metadata": {
            "tags": []
          }
        }
      ]
    },
    {
      "cell_type": "code",
      "metadata": {
        "execution": {
          "iopub.status.busy": "2021-05-22T08:58:41.236985Z",
          "iopub.execute_input": "2021-05-22T08:58:41.237253Z",
          "iopub.status.idle": "2021-05-22T08:58:41.744665Z",
          "shell.execute_reply.started": "2021-05-22T08:58:41.237227Z",
          "shell.execute_reply": "2021-05-22T08:58:41.743998Z"
        },
        "trusted": true,
        "colab": {
          "base_uri": "https://localhost:8080/",
          "height": 400
        },
        "id": "EYFryMm11pf8",
        "outputId": "bb4bc21b-209a-4f87-85f9-4279ae2dd4dc"
      },
      "source": [
        "sns.catplot(x = 'Embarked', y = 'Survived', kind = 'bar', data = train, col = 'Sex')"
      ],
      "execution_count": 15,
      "outputs": [
        {
          "output_type": "execute_result",
          "data": {
            "text/plain": [
              "<seaborn.axisgrid.FacetGrid at 0x7fa45ca02a50>"
            ]
          },
          "metadata": {
            "tags": []
          },
          "execution_count": 15
        },
        {
          "output_type": "display_data",
          "data": {
            "image/png": "[encoded data removed]",
            "text/plain": [
              "<Figure size 720x360 with 2 Axes>"
            ]
          },
          "metadata": {
            "tags": []
          }
        }
      ]
    },
    {
      "cell_type": "code",
      "metadata": {
        "execution": {
          "iopub.status.busy": "2021-05-22T08:58:41.745684Z",
          "iopub.execute_input": "2021-05-22T08:58:41.746021Z",
          "iopub.status.idle": "2021-05-22T08:58:41.977373Z",
          "shell.execute_reply.started": "2021-05-22T08:58:41.745995Z",
          "shell.execute_reply": "2021-05-22T08:58:41.976464Z"
        },
        "trusted": true,
        "colab": {
          "base_uri": "https://localhost:8080/",
          "height": 421
        },
        "id": "wL1B1yQG1pf9",
        "outputId": "a3c265e3-b474-4613-b872-6b06a3b0aa22"
      },
      "source": [
        "plt.figure(figsize = (14, 6))\n",
        "# showing distribute of age column with .distplot() of seaborn\n",
        "sns.distplot(train['Age'])\n",
        "plt.title('Age Distribution of passengers',)"
      ],
      "execution_count": 16,
      "outputs": [
        {
          "output_type": "execute_result",
          "data": {
            "text/plain": [
              "Text(0.5, 1.0, 'Age Distribution of passengers')"
            ]
          },
          "metadata": {
            "tags": []
          },
          "execution_count": 16
        },
        {
          "output_type": "display_data",
          "data": {
            "image/png": "[encoded data removed]",
            "text/plain": [
              "<Figure size 1008x432 with 1 Axes>"
            ]
          },
          "metadata": {
            "tags": []
          }
        }
      ]
    },
    {
      "cell_type": "code",
      "metadata": {
        "execution": {
          "iopub.status.busy": "2021-05-22T08:58:41.978572Z",
          "iopub.execute_input": "2021-05-22T08:58:41.978819Z",
          "iopub.status.idle": "2021-05-22T08:58:42.248823Z",
          "shell.execute_reply.started": "2021-05-22T08:58:41.978795Z",
          "shell.execute_reply": "2021-05-22T08:58:42.247983Z"
        },
        "trusted": true,
        "colab": {
          "base_uri": "https://localhost:8080/",
          "height": 416
        },
        "id": "li7UEPQN1pf9",
        "outputId": "08c69fcd-2ed0-4622-9cd8-44b944eac6e3"
      },
      "source": [
        "#Showing mean age of Male/Female using boxplot\n",
        "sns.catplot(x = 'Sex', y = 'Age', kind = 'box', data = train, height = 5, aspect = 2)\n",
        "plt.title('Mean Value of Age of each gender',)"
      ],
      "execution_count": 17,
      "outputs": [
        {
          "output_type": "execute_result",
          "data": {
            "text/plain": [
              "Text(0.5, 1.0, 'Mean Value of Age of each gender')"
            ]
          },
          "metadata": {
            "tags": []
          },
          "execution_count": 17
        },
        {
          "output_type": "display_data",
          "data": {
            "image/png": "[encoded data removed]",
            "text/plain": [
              "<Figure size 720x360 with 1 Axes>"
            ]
          },
          "metadata": {
            "tags": []
          }
        }
      ]
    },
    {
      "cell_type": "code",
      "metadata": {
        "execution": {
          "iopub.status.busy": "2021-05-22T08:58:42.250309Z",
          "iopub.execute_input": "2021-05-22T08:58:42.250566Z",
          "iopub.status.idle": "2021-05-22T08:58:42.841344Z",
          "shell.execute_reply.started": "2021-05-22T08:58:42.25054Z",
          "shell.execute_reply": "2021-05-22T08:58:42.840659Z"
        },
        "trusted": true,
        "colab": {
          "base_uri": "https://localhost:8080/",
          "height": 380
        },
        "id": "kYLmQLXf1pf9",
        "outputId": "a047cf6b-dc7d-4cf6-ae4d-d9fb9191b670"
      },
      "source": [
        "#Showing mean age of each geneder of each Ticket class (Pclass) using boxplot\n",
        "sns.catplot(x = 'Sex', y = 'Age', kind = 'box', data = train, col = 'Pclass')\n",
        "plt.suptitle('Mean Value of Age of each male/femlae in  Pclasses')"
      ],
      "execution_count": 19,
      "outputs": [
        {
          "output_type": "execute_result",
          "data": {
            "text/plain": [
              "Text(0.5, 0.98, 'Mean Value of Age of each male/femlae in  Pclasses')"
            ]
          },
          "metadata": {
            "tags": []
          },
          "execution_count": 19
        },
        {
          "output_type": "display_data",
          "data": {
            "image/png": "[encoded data removed]",
            "text/plain": [
              "<Figure size 1080x360 with 3 Axes>"
            ]
          },
          "metadata": {
            "tags": []
          }
        }
      ]
    },
    {
      "cell_type": "code",
      "metadata": {
        "execution": {
          "iopub.status.busy": "2021-05-22T08:58:42.842379Z",
          "iopub.execute_input": "2021-05-22T08:58:42.842726Z",
          "iopub.status.idle": "2021-05-22T08:58:43.014816Z",
          "shell.execute_reply.started": "2021-05-22T08:58:42.842692Z",
          "shell.execute_reply": "2021-05-22T08:58:43.014007Z"
        },
        "trusted": true,
        "colab": {
          "base_uri": "https://localhost:8080/",
          "height": 421
        },
        "id": "40rwaV6J1pf-",
        "outputId": "8941e100-dd71-47bc-9302-2f020675fdfa"
      },
      "source": [
        "plt.figure(figsize = (14, 6))\n",
        "#Showing mean age of each Ticket class (Pclass) using boxplot\n",
        "sns.boxplot(x='Pclass',y='Age',data=train)\n",
        "plt.title('Mean Value of Age of each  Pclass Passengers (Train Data)',)"
      ],
      "execution_count": 20,
      "outputs": [
        {
          "output_type": "execute_result",
          "data": {
            "text/plain": [
              "Text(0.5, 1.0, 'Mean Value of Age of each  Pclass Passengers (Train Data)')"
            ]
          },
          "metadata": {
            "tags": []
          },
          "execution_count": 20
        },
        {
          "output_type": "display_data",
          "data": {
            "image/png": "[encoded data removed]",
            "text/plain": [
              "<Figure size 1008x432 with 1 Axes>"
            ]
          },
          "metadata": {
            "tags": []
          }
        }
      ]
    },
    {
      "cell_type": "code",
      "metadata": {
        "execution": {
          "iopub.status.busy": "2021-05-22T08:58:43.015765Z",
          "iopub.execute_input": "2021-05-22T08:58:43.016135Z",
          "iopub.status.idle": "2021-05-22T08:58:43.185196Z",
          "shell.execute_reply.started": "2021-05-22T08:58:43.016108Z",
          "shell.execute_reply": "2021-05-22T08:58:43.184507Z"
        },
        "trusted": true,
        "colab": {
          "base_uri": "https://localhost:8080/",
          "height": 421
        },
        "id": "CL3CHUcG1pf-",
        "outputId": "391da0f5-2ecf-413d-8b0c-0fb6a10601aa"
      },
      "source": [
        "plt.figure(figsize = (14, 6))\n",
        "#Showing mean age of each Ticket class (Pclass) using boxplot for test data\n",
        "sns.boxplot(x='Pclass',y='Age',data=test)\n",
        "plt.title('Mean Value of Age of each  Pclass Passengers (Test Data)',)"
      ],
      "execution_count": 21,
      "outputs": [
        {
          "output_type": "execute_result",
          "data": {
            "text/plain": [
              "Text(0.5, 1.0, 'Mean Value of Age of each  Pclass Passengers (Test Data)')"
            ]
          },
          "metadata": {
            "tags": []
          },
          "execution_count": 21
        },
        {
          "output_type": "display_data",
          "data": {
            "image/png": "[encoded data removed]",
            "text/plain": [
              "<Figure size 1008x432 with 1 Axes>"
            ]
          },
          "metadata": {
            "tags": []
          }
        }
      ]
    },
    {
      "cell_type": "code",
      "metadata": {
        "execution": {
          "iopub.status.busy": "2021-05-22T08:58:43.186087Z",
          "iopub.execute_input": "2021-05-22T08:58:43.186439Z",
          "iopub.status.idle": "2021-05-22T08:58:43.440391Z",
          "shell.execute_reply.started": "2021-05-22T08:58:43.186413Z",
          "shell.execute_reply": "2021-05-22T08:58:43.439684Z"
        },
        "trusted": true,
        "colab": {
          "base_uri": "https://localhost:8080/",
          "height": 407
        },
        "id": "9yC0AEmv1pf_",
        "outputId": "0db42823-fd4d-4036-a941-0381f397e332"
      },
      "source": [
        "plt.figure(figsize = (14, 6))\n",
        "#Showing histogram of Paid Fare using .hist() of matplotlib \n",
        "plt.hist('Fare',data=train, bins = 60)\n",
        "plt.title('Difference in the amount of  Fare paid')"
      ],
      "execution_count": 22,
      "outputs": [
        {
          "output_type": "execute_result",
          "data": {
            "text/plain": [
              "Text(0.5, 1.0, 'Difference in the amount of \\xa0Fare paid')"
            ]
          },
          "metadata": {
            "tags": []
          },
          "execution_count": 22
        },
        {
          "output_type": "display_data",
          "data": {
            "image/png": "[encoded data removed]",
            "text/plain": [
              "<Figure size 1008x432 with 1 Axes>"
            ]
          },
          "metadata": {
            "tags": []
          }
        }
      ]
    },
    {
      "cell_type": "code",
      "metadata": {
        "execution": {
          "iopub.status.busy": "2021-05-22T08:58:43.441273Z",
          "iopub.execute_input": "2021-05-22T08:58:43.441617Z",
          "iopub.status.idle": "2021-05-22T08:58:43.671433Z",
          "shell.execute_reply.started": "2021-05-22T08:58:43.441591Z",
          "shell.execute_reply": "2021-05-22T08:58:43.670802Z"
        },
        "trusted": true,
        "colab": {
          "base_uri": "https://localhost:8080/",
          "height": 744
        },
        "id": "btM0r9A61pf_",
        "outputId": "ddf357db-fd46-4fd9-ef4e-a2158d007d7a"
      },
      "source": [
        "cprint('Percent Of Survived :','green')\n",
        "#Showing  Percentage of survivors of Siblings or  couples \n",
        "print(train[['SibSp', 'Survived']].groupby(['SibSp'], as_index=False).mean().sort_values(by='Survived', ascending=False))\n",
        "cprint('Count Of Each Embarked  :','green')\n",
        "#Showing  count of   Siblings or  couples \n",
        "print(train.groupby('SibSp').size())\n",
        "plt.figure(figsize = (14, 6))\n",
        "#Using .countplot() of seaborn to  visualize  Count survived Siblings or  couples \n",
        "sns.countplot(x = 'SibSp', data = train, hue = 'Survived')\n",
        "plt.title('Number of Siblings or  couples  Survived by gender')"
      ],
      "execution_count": 23,
      "outputs": [
        {
          "output_type": "stream",
          "text": [
            "\u001b[32mPercent Of Survived :\u001b[0m\n",
            "   SibSp  Survived\n",
            "1      1  0.535885\n",
            "2      2  0.464286\n",
            "0      0  0.345395\n",
            "3      3  0.250000\n",
            "4      4  0.166667\n",
            "5      5  0.000000\n",
            "6      8  0.000000\n",
            "\u001b[32mCount Of Each Embarked  :\u001b[0m\n",
            "SibSp\n",
            "0    608\n",
            "1    209\n",
            "2     28\n",
            "3     16\n",
            "4     18\n",
            "5      5\n",
            "8      7\n",
            "dtype: int64\n"
          ],
          "name": "stdout"
        },
        {
          "output_type": "execute_result",
          "data": {
            "text/plain": [
              "Text(0.5, 1.0, 'Number of Siblings or  couples  Survived by gender')"
            ]
          },
          "metadata": {
            "tags": []
          },
          "execution_count": 23
        },
        {
          "output_type": "display_data",
          "data": {
            "image/png": "[encoded data removed]",
            "text/plain": [
              "<Figure size 1008x432 with 1 Axes>"
            ]
          },
          "metadata": {
            "tags": []
          }
        }
      ]
    },
    {
      "cell_type": "code",
      "metadata": {
        "execution": {
          "iopub.status.busy": "2021-05-22T08:58:43.67287Z",
          "iopub.execute_input": "2021-05-22T08:58:43.673263Z",
          "iopub.status.idle": "2021-05-22T08:58:44.322153Z",
          "shell.execute_reply.started": "2021-05-22T08:58:43.673222Z",
          "shell.execute_reply": "2021-05-22T08:58:44.321036Z"
        },
        "trusted": true,
        "colab": {
          "base_uri": "https://localhost:8080/",
          "height": 811
        },
        "id": "aFT6PSzD1pgA",
        "outputId": "94c0c4af-f045-4c59-e73b-2a3946703b23"
      },
      "source": [
        "cprint('Percent Of Survived :','green')\n",
        "#Showing  Percentage of survivors of Parents /children   \n",
        "print(train[['Parch', 'Survived']].groupby(['Parch'], as_index=False).mean().sort_values(by='Survived', ascending=False))\n",
        "cprint('Count Of Each Embarked  :','green')\n",
        "#Showing  count of   Parents /children   \n",
        "print(train.groupby('Parch').size())\n",
        "#Using .countplot() of seaborn to  visualize  Count survived Siblings or  couples \n",
        "sns.catplot(x = 'Parch', y = 'Survived', data = train, hue = 'Sex', kind = 'bar', height = 6, aspect = 2)\n",
        "plt.title('Number of Siblings or  couples  Survived')"
      ],
      "execution_count": 24,
      "outputs": [
        {
          "output_type": "stream",
          "text": [
            "\u001b[32mPercent Of Survived :\u001b[0m\n",
            "   Parch  Survived\n",
            "3      3  0.600000\n",
            "1      1  0.550847\n",
            "2      2  0.500000\n",
            "0      0  0.343658\n",
            "5      5  0.200000\n",
            "4      4  0.000000\n",
            "6      6  0.000000\n",
            "\u001b[32mCount Of Each Embarked  :\u001b[0m\n",
            "Parch\n",
            "0    678\n",
            "1    118\n",
            "2     80\n",
            "3      5\n",
            "4      4\n",
            "5      5\n",
            "6      1\n",
            "dtype: int64\n"
          ],
          "name": "stdout"
        },
        {
          "output_type": "execute_result",
          "data": {
            "text/plain": [
              "Text(0.5, 1.0, 'Number of Siblings or  couples  Survived')"
            ]
          },
          "metadata": {
            "tags": []
          },
          "execution_count": 24
        },
        {
          "output_type": "display_data",
          "data": {
            "image/png": "[encoded data removed]",
            "text/plain": [
              "<Figure size 934.5x432 with 1 Axes>"
            ]
          },
          "metadata": {
            "tags": []
          }
        }
      ]
    },
    {
      "cell_type": "code",
      "metadata": {
        "execution": {
          "iopub.status.busy": "2021-05-22T08:58:44.323656Z",
          "iopub.execute_input": "2021-05-22T08:58:44.324014Z",
          "iopub.status.idle": "2021-05-22T08:58:45.048812Z",
          "shell.execute_reply.started": "2021-05-22T08:58:44.323975Z",
          "shell.execute_reply": "2021-05-22T08:58:45.047968Z"
        },
        "trusted": true,
        "colab": {
          "base_uri": "https://localhost:8080/",
          "height": 390
        },
        "id": "DoKvWXni1pgA",
        "outputId": "c3392787-f6a7-4722-f2db-f491f5b45f88"
      },
      "source": [
        "plt.figure(figsize = (10, 6))\n",
        "#Using .heatmap() of seaborn to understand better relationship of variables \n",
        "sns.heatmap(train.corr(), annot=True)\n",
        "plt.title('Corelation Matrix');"
      ],
      "execution_count": 25,
      "outputs": [
        {
          "output_type": "display_data",
          "data": {
            "image/png": "[encoded data removed]",
            "text/plain": [
              "<Figure size 720x432 with 2 Axes>"
            ]
          },
          "metadata": {
            "tags": []
          }
        }
      ]
    },
    {
      "cell_type": "markdown",
      "metadata": {
        "id": "9B1Taxa34LcM"
      },
      "source": [
        "There is not a high correlation between the variables. So, we don't have multicollinearity in the data."
      ]
    },
    {
      "cell_type": "markdown",
      "metadata": {
        "id": "UUrINEAU1pgA"
      },
      "source": [
        "## Cleaning and  Data Preprocessing\n"
      ]
    },
    {
      "cell_type": "code",
      "metadata": {
        "execution": {
          "iopub.status.busy": "2021-05-22T08:58:45.067176Z",
          "iopub.execute_input": "2021-05-22T08:58:45.067433Z",
          "iopub.status.idle": "2021-05-22T08:58:45.083952Z",
          "shell.execute_reply.started": "2021-05-22T08:58:45.067408Z",
          "shell.execute_reply": "2021-05-22T08:58:45.083056Z"
        },
        "trusted": true,
        "id": "yEVFcpWb1pgB"
      },
      "source": [
        "#Replacing Gender with 0 and 1 in test & train data\n",
        "\n",
        "dataset.Sex[dataset.Sex == 'male'] = 0 # repalce male with 0\n",
        "dataset.Sex[dataset.Sex == 'female'] = 1 # repalce female with 1"
      ],
      "execution_count": 28,
      "outputs": []
    },
    {
      "cell_type": "code",
      "metadata": {
        "execution": {
          "iopub.status.busy": "2021-05-22T08:58:45.085557Z",
          "iopub.execute_input": "2021-05-22T08:58:45.08592Z",
          "iopub.status.idle": "2021-05-22T08:58:45.097795Z",
          "shell.execute_reply.started": "2021-05-22T08:58:45.085891Z",
          "shell.execute_reply": "2021-05-22T08:58:45.097001Z"
        },
        "trusted": true,
        "id": "i_G7gEcj1pgB"
      },
      "source": [
        "#Converting Embarked into dummies using pd.get_dummies()\n",
        "dummies  = pd.get_dummies(dataset.Embarked)\n",
        "dataset = pd.concat([dataset,dummies],axis='columns')\n",
        "dataset.drop(['Embarked'],axis='columns',inplace=True)"
      ],
      "execution_count": 29,
      "outputs": []
    },
    {
      "cell_type": "code",
      "metadata": {
        "execution": {
          "iopub.status.busy": "2021-05-22T08:58:45.099207Z",
          "iopub.execute_input": "2021-05-22T08:58:45.099813Z",
          "iopub.status.idle": "2021-05-22T08:58:45.106354Z",
          "shell.execute_reply.started": "2021-05-22T08:58:45.09977Z",
          "shell.execute_reply": "2021-05-22T08:58:45.10543Z"
        },
        "trusted": true,
        "id": "rCitk7st1pgC"
      },
      "source": [
        "#Replace NaN values of Cabin with U (Unknown)\n",
        "dataset.Cabin = dataset.Cabin.fillna('U')"
      ],
      "execution_count": 30,
      "outputs": []
    },
    {
      "cell_type": "code",
      "metadata": {
        "execution": {
          "iopub.status.busy": "2021-05-22T08:58:45.107518Z",
          "iopub.execute_input": "2021-05-22T08:58:45.107772Z",
          "iopub.status.idle": "2021-05-22T08:58:45.131003Z",
          "shell.execute_reply.started": "2021-05-22T08:58:45.107748Z",
          "shell.execute_reply": "2021-05-22T08:58:45.129957Z"
        },
        "trusted": true,
        "id": "F3ISDFBL1pgC"
      },
      "source": [
        "#Using Regex to find letters and categories better cabin \n",
        "dataset.Cabin = dataset.Cabin.map(lambda x:re.compile(\"([a-zA-Z])\").search(x).group())"
      ],
      "execution_count": 31,
      "outputs": []
    },
    {
      "cell_type": "code",
      "metadata": {
        "execution": {
          "iopub.status.busy": "2021-05-22T08:58:45.132275Z",
          "iopub.execute_input": "2021-05-22T08:58:45.132615Z",
          "iopub.status.idle": "2021-05-22T08:58:45.147548Z",
          "shell.execute_reply.started": "2021-05-22T08:58:45.132584Z",
          "shell.execute_reply": "2021-05-22T08:58:45.146803Z"
        },
        "trusted": true,
        "colab": {
          "base_uri": "https://localhost:8080/"
        },
        "id": "s0QTAVr51pgC",
        "outputId": "4435a695-6665-464a-814d-9ad0bf11a5f4"
      },
      "source": [
        "dataset.groupby('Cabin').size()"
      ],
      "execution_count": 32,
      "outputs": [
        {
          "output_type": "execute_result",
          "data": {
            "text/plain": [
              "Cabin\n",
              "A      22\n",
              "B      65\n",
              "C      94\n",
              "D      46\n",
              "E      41\n",
              "F      21\n",
              "G       5\n",
              "T       1\n",
              "U    1014\n",
              "dtype: int64"
            ]
          },
          "metadata": {
            "tags": []
          },
          "execution_count": 32
        }
      ]
    },
    {
      "cell_type": "code",
      "metadata": {
        "execution": {
          "iopub.status.busy": "2021-05-22T08:58:45.180646Z",
          "iopub.execute_input": "2021-05-22T08:58:45.181159Z",
          "iopub.status.idle": "2021-05-22T08:58:45.189611Z",
          "shell.execute_reply.started": "2021-05-22T08:58:45.181102Z",
          "shell.execute_reply": "2021-05-22T08:58:45.188647Z"
        },
        "trusted": true,
        "id": "ZVS7P3ee1pgC"
      },
      "source": [
        "#Replacing Cabins with numbers \n",
        "cabin_dictionary = {'A':1 , 'B':2, 'C':3 , 'D':4 , 'E':5 , 'F':6 , 'G':7 , 'T':8 , 'U':9}\n",
        "\n",
        "dataset = dataset.replace({'Cabin':cabin_dictionary})"
      ],
      "execution_count": 33,
      "outputs": []
    },
    {
      "cell_type": "code",
      "metadata": {
        "execution": {
          "iopub.status.busy": "2021-05-22T08:58:45.455643Z",
          "iopub.execute_input": "2021-05-22T08:58:45.455954Z",
          "iopub.status.idle": "2021-05-22T08:58:45.462063Z",
          "shell.execute_reply.started": "2021-05-22T08:58:45.455927Z",
          "shell.execute_reply": "2021-05-22T08:58:45.461145Z"
        },
        "trusted": true,
        "id": "n2rEcj2Q1pgD"
      },
      "source": [
        "#Combining number of siblings and  spouses to get FamilySize \n",
        "dataset['FamilySize'] = dataset['SibSp'] + dataset['Parch'] + 1"
      ],
      "execution_count": 34,
      "outputs": []
    },
    {
      "cell_type": "code",
      "metadata": {
        "execution": {
          "iopub.status.busy": "2021-05-22T08:58:45.845622Z",
          "iopub.execute_input": "2021-05-22T08:58:45.845966Z",
          "iopub.status.idle": "2021-05-22T08:58:45.854016Z",
          "shell.execute_reply.started": "2021-05-22T08:58:45.845938Z",
          "shell.execute_reply": "2021-05-22T08:58:45.852931Z"
        },
        "trusted": true,
        "id": "hv2jrHe61pgD"
      },
      "source": [
        "#Replacing missing Fare value of test data with median of Fares \n",
        "dataset.Fare = dataset.Fare.fillna(dataset.Fare.median())"
      ],
      "execution_count": 35,
      "outputs": []
    },
    {
      "cell_type": "code",
      "metadata": {
        "execution": {
          "iopub.status.busy": "2021-05-22T08:58:46.300586Z",
          "iopub.execute_input": "2021-05-22T08:58:46.300928Z",
          "iopub.status.idle": "2021-05-22T08:58:46.307635Z",
          "shell.execute_reply.started": "2021-05-22T08:58:46.300897Z",
          "shell.execute_reply": "2021-05-22T08:58:46.306908Z"
        },
        "trusted": true,
        "id": "iTeQvYBW1pgE"
      },
      "source": [
        "#Dropping unused columns of test and train data \n",
        "dataset = dataset.drop(['Name','SibSp', 'Parch', 'Ticket'], axis = 1)"
      ],
      "execution_count": 36,
      "outputs": []
    },
    {
      "cell_type": "code",
      "metadata": {
        "execution": {
          "iopub.status.busy": "2021-05-22T08:58:46.677751Z",
          "iopub.execute_input": "2021-05-22T08:58:46.678207Z",
          "iopub.status.idle": "2021-05-22T08:58:46.68402Z",
          "shell.execute_reply.started": "2021-05-22T08:58:46.678178Z",
          "shell.execute_reply": "2021-05-22T08:58:46.683346Z"
        },
        "trusted": true,
        "id": "lwRabyKK1pgE"
      },
      "source": [
        "#Split train  and test set \n",
        "train_main = dataset[dataset['Survived'].notna()] # train set Survived != null\n",
        "test_main  = dataset[dataset['Survived'].isnull()] # train set Survived == null"
      ],
      "execution_count": 37,
      "outputs": []
    },
    {
      "cell_type": "code",
      "metadata": {
        "execution": {
          "iopub.status.busy": "2021-05-22T08:58:47.021259Z",
          "iopub.execute_input": "2021-05-22T08:58:47.021625Z",
          "iopub.status.idle": "2021-05-22T08:58:47.026023Z",
          "shell.execute_reply.started": "2021-05-22T08:58:47.021589Z",
          "shell.execute_reply": "2021-05-22T08:58:47.025253Z"
        },
        "trusted": true,
        "id": "M09y908L1pgE"
      },
      "source": [
        "#Replacing Missing values of age row with mean age of each Ticket class (Pclass) of train data\n",
        "def clean_training_age(columns) :\n",
        "    Age = columns[0]\n",
        "    Pclass = columns[1]\n",
        "    \n",
        "    if pd.isnull(Age):\n",
        "        if Pclass ==1 :\n",
        "            return 37\n",
        "        elif  Pclass == 2 :\n",
        "            return 29\n",
        "        else : \n",
        "            return 24\n",
        "    else : \n",
        "        return Age"
      ],
      "execution_count": 38,
      "outputs": []
    },
    {
      "cell_type": "code",
      "metadata": {
        "execution": {
          "iopub.status.busy": "2021-05-22T08:58:47.390492Z",
          "iopub.execute_input": "2021-05-22T08:58:47.390985Z",
          "iopub.status.idle": "2021-05-22T08:58:47.395382Z",
          "shell.execute_reply.started": "2021-05-22T08:58:47.390941Z",
          "shell.execute_reply": "2021-05-22T08:58:47.394543Z"
        },
        "trusted": true,
        "id": "D9I2-6kS1pgF"
      },
      "source": [
        "#Replacing Missing values of age  with mean age of each Ticket class (Pclass) of test data\n",
        "def clean_test_age(columns) :\n",
        "    Age = columns[0]\n",
        "    Pclass = columns[1]\n",
        "    \n",
        "    if pd.isnull(Age):\n",
        "        if Pclass ==1 :\n",
        "            return 44\n",
        "        elif  Pclass == 2 :\n",
        "            return 27\n",
        "        else : \n",
        "            return 23\n",
        "    else : \n",
        "        return Age"
      ],
      "execution_count": 39,
      "outputs": []
    },
    {
      "cell_type": "code",
      "metadata": {
        "execution": {
          "iopub.status.busy": "2021-05-22T08:58:47.646048Z",
          "iopub.execute_input": "2021-05-22T08:58:47.646396Z",
          "iopub.status.idle": "2021-05-22T08:58:47.671354Z",
          "shell.execute_reply.started": "2021-05-22T08:58:47.646362Z",
          "shell.execute_reply": "2021-05-22T08:58:47.670568Z"
        },
        "trusted": true,
        "id": "PkejithQ1pgF"
      },
      "source": [
        "#Filling age missing values with mean age of each Pclass according to the  boxplot\n",
        "train_main.Age = train_main[['Age','Pclass']].apply(clean_training_age,axis=1) \n",
        "test_main.Age = test_main[['Age','Pclass']].apply(clean_test_age,axis=1) "
      ],
      "execution_count": 40,
      "outputs": []
    },
    {
      "cell_type": "code",
      "metadata": {
        "execution": {
          "iopub.status.busy": "2021-05-22T08:58:48.085821Z",
          "iopub.execute_input": "2021-05-22T08:58:48.086389Z",
          "iopub.status.idle": "2021-05-22T08:58:48.091577Z",
          "shell.execute_reply.started": "2021-05-22T08:58:48.086341Z",
          "shell.execute_reply": "2021-05-22T08:58:48.090653Z"
        },
        "trusted": true,
        "id": "1ILP2u6_1pgF"
      },
      "source": [
        "#Dropping Survived of  test data \n",
        "test_main.drop('Survived',axis =1,inplace=True)"
      ],
      "execution_count": 41,
      "outputs": []
    },
    {
      "cell_type": "code",
      "metadata": {
        "execution": {
          "iopub.status.busy": "2021-05-22T08:58:48.534742Z",
          "iopub.execute_input": "2021-05-22T08:58:48.535284Z",
          "iopub.status.idle": "2021-05-22T08:58:48.549814Z",
          "shell.execute_reply.started": "2021-05-22T08:58:48.535237Z",
          "shell.execute_reply": "2021-05-22T08:58:48.549251Z"
        },
        "trusted": true,
        "colab": {
          "base_uri": "https://localhost:8080/",
          "height": 204
        },
        "id": "RWq7Z0vh1pgF",
        "outputId": "f10c4d0a-3036-404f-a6ff-cabe677dab28"
      },
      "source": [
        "train_main.head()"
      ],
      "execution_count": 42,
      "outputs": [
        {
          "output_type": "execute_result",
          "data": {
            "text/html": [
              "<div>\n",
              "<style scoped>\n",
              "    .dataframe tbody tr th:only-of-type {\n",
              "        vertical-align: middle;\n",
              "    }\n",
              "\n",
              "    .dataframe tbody tr th {\n",
              "        vertical-align: top;\n",
              "    }\n",
              "\n",
              "    .dataframe thead th {\n",
              "        text-align: right;\n",
              "    }\n",
              "</style>\n",
              "<table border=\"1\" class=\"dataframe\">\n",
              "  <thead>\n",
              "    <tr style=\"text-align: right;\">\n",
              "      <th></th>\n",
              "      <th>PassengerId</th>\n",
              "      <th>Survived</th>\n",
              "      <th>Pclass</th>\n",
              "      <th>Sex</th>\n",
              "      <th>Age</th>\n",
              "      <th>Fare</th>\n",
              "      <th>Cabin</th>\n",
              "      <th>C</th>\n",
              "      <th>Q</th>\n",
              "      <th>S</th>\n",
              "      <th>FamilySize</th>\n",
              "    </tr>\n",
              "  </thead>\n",
              "  <tbody>\n",
              "    <tr>\n",
              "      <th>0</th>\n",
              "      <td>1</td>\n",
              "      <td>0.0</td>\n",
              "      <td>3</td>\n",
              "      <td>0</td>\n",
              "      <td>22.0</td>\n",
              "      <td>7.2500</td>\n",
              "      <td>9</td>\n",
              "      <td>0</td>\n",
              "      <td>0</td>\n",
              "      <td>1</td>\n",
              "      <td>2</td>\n",
              "    </tr>\n",
              "    <tr>\n",
              "      <th>1</th>\n",
              "      <td>2</td>\n",
              "      <td>1.0</td>\n",
              "      <td>1</td>\n",
              "      <td>1</td>\n",
              "      <td>38.0</td>\n",
              "      <td>71.2833</td>\n",
              "      <td>3</td>\n",
              "      <td>1</td>\n",
              "      <td>0</td>\n",
              "      <td>0</td>\n",
              "      <td>2</td>\n",
              "    </tr>\n",
              "    <tr>\n",
              "      <th>2</th>\n",
              "      <td>3</td>\n",
              "      <td>1.0</td>\n",
              "      <td>3</td>\n",
              "      <td>1</td>\n",
              "      <td>26.0</td>\n",
              "      <td>7.9250</td>\n",
              "      <td>9</td>\n",
              "      <td>0</td>\n",
              "      <td>0</td>\n",
              "      <td>1</td>\n",
              "      <td>1</td>\n",
              "    </tr>\n",
              "    <tr>\n",
              "      <th>3</th>\n",
              "      <td>4</td>\n",
              "      <td>1.0</td>\n",
              "      <td>1</td>\n",
              "      <td>1</td>\n",
              "      <td>35.0</td>\n",
              "      <td>53.1000</td>\n",
              "      <td>3</td>\n",
              "      <td>0</td>\n",
              "      <td>0</td>\n",
              "      <td>1</td>\n",
              "      <td>2</td>\n",
              "    </tr>\n",
              "    <tr>\n",
              "      <th>4</th>\n",
              "      <td>5</td>\n",
              "      <td>0.0</td>\n",
              "      <td>3</td>\n",
              "      <td>0</td>\n",
              "      <td>35.0</td>\n",
              "      <td>8.0500</td>\n",
              "      <td>9</td>\n",
              "      <td>0</td>\n",
              "      <td>0</td>\n",
              "      <td>1</td>\n",
              "      <td>1</td>\n",
              "    </tr>\n",
              "  </tbody>\n",
              "</table>\n",
              "</div>"
            ],
            "text/plain": [
              "   PassengerId  Survived  Pclass Sex   Age     Fare  Cabin  C  Q  S  FamilySize\n",
              "0            1       0.0       3   0  22.0   7.2500      9  0  0  1           2\n",
              "1            2       1.0       1   1  38.0  71.2833      3  1  0  0           2\n",
              "2            3       1.0       3   1  26.0   7.9250      9  0  0  1           1\n",
              "3            4       1.0       1   1  35.0  53.1000      3  0  0  1           2\n",
              "4            5       0.0       3   0  35.0   8.0500      9  0  0  1           1"
            ]
          },
          "metadata": {
            "tags": []
          },
          "execution_count": 42
        }
      ]
    },
    {
      "cell_type": "code",
      "metadata": {
        "execution": {
          "iopub.status.busy": "2021-05-22T08:58:48.865825Z",
          "iopub.execute_input": "2021-05-22T08:58:48.866363Z",
          "iopub.status.idle": "2021-05-22T08:58:48.878602Z",
          "shell.execute_reply.started": "2021-05-22T08:58:48.866319Z",
          "shell.execute_reply": "2021-05-22T08:58:48.877762Z"
        },
        "trusted": true,
        "colab": {
          "base_uri": "https://localhost:8080/",
          "height": 204
        },
        "id": "p8ZlzWZr1pgG",
        "outputId": "c07cd148-d7aa-4006-d8a4-5dcd92f40665"
      },
      "source": [
        "test_main.head()"
      ],
      "execution_count": 44,
      "outputs": [
        {
          "output_type": "execute_result",
          "data": {
            "text/html": [
              "<div>\n",
              "<style scoped>\n",
              "    .dataframe tbody tr th:only-of-type {\n",
              "        vertical-align: middle;\n",
              "    }\n",
              "\n",
              "    .dataframe tbody tr th {\n",
              "        vertical-align: top;\n",
              "    }\n",
              "\n",
              "    .dataframe thead th {\n",
              "        text-align: right;\n",
              "    }\n",
              "</style>\n",
              "<table border=\"1\" class=\"dataframe\">\n",
              "  <thead>\n",
              "    <tr style=\"text-align: right;\">\n",
              "      <th></th>\n",
              "      <th>PassengerId</th>\n",
              "      <th>Pclass</th>\n",
              "      <th>Sex</th>\n",
              "      <th>Age</th>\n",
              "      <th>Fare</th>\n",
              "      <th>Cabin</th>\n",
              "      <th>C</th>\n",
              "      <th>Q</th>\n",
              "      <th>S</th>\n",
              "      <th>FamilySize</th>\n",
              "    </tr>\n",
              "  </thead>\n",
              "  <tbody>\n",
              "    <tr>\n",
              "      <th>891</th>\n",
              "      <td>892</td>\n",
              "      <td>3</td>\n",
              "      <td>0</td>\n",
              "      <td>34.5</td>\n",
              "      <td>7.8292</td>\n",
              "      <td>9</td>\n",
              "      <td>0</td>\n",
              "      <td>1</td>\n",
              "      <td>0</td>\n",
              "      <td>1</td>\n",
              "    </tr>\n",
              "    <tr>\n",
              "      <th>892</th>\n",
              "      <td>893</td>\n",
              "      <td>3</td>\n",
              "      <td>1</td>\n",
              "      <td>47.0</td>\n",
              "      <td>7.0000</td>\n",
              "      <td>9</td>\n",
              "      <td>0</td>\n",
              "      <td>0</td>\n",
              "      <td>1</td>\n",
              "      <td>2</td>\n",
              "    </tr>\n",
              "    <tr>\n",
              "      <th>893</th>\n",
              "      <td>894</td>\n",
              "      <td>2</td>\n",
              "      <td>0</td>\n",
              "      <td>62.0</td>\n",
              "      <td>9.6875</td>\n",
              "      <td>9</td>\n",
              "      <td>0</td>\n",
              "      <td>1</td>\n",
              "      <td>0</td>\n",
              "      <td>1</td>\n",
              "    </tr>\n",
              "    <tr>\n",
              "      <th>894</th>\n",
              "      <td>895</td>\n",
              "      <td>3</td>\n",
              "      <td>0</td>\n",
              "      <td>27.0</td>\n",
              "      <td>8.6625</td>\n",
              "      <td>9</td>\n",
              "      <td>0</td>\n",
              "      <td>0</td>\n",
              "      <td>1</td>\n",
              "      <td>1</td>\n",
              "    </tr>\n",
              "    <tr>\n",
              "      <th>895</th>\n",
              "      <td>896</td>\n",
              "      <td>3</td>\n",
              "      <td>1</td>\n",
              "      <td>22.0</td>\n",
              "      <td>12.2875</td>\n",
              "      <td>9</td>\n",
              "      <td>0</td>\n",
              "      <td>0</td>\n",
              "      <td>1</td>\n",
              "      <td>3</td>\n",
              "    </tr>\n",
              "  </tbody>\n",
              "</table>\n",
              "</div>"
            ],
            "text/plain": [
              "     PassengerId  Pclass Sex   Age     Fare  Cabin  C  Q  S  FamilySize\n",
              "891          892       3   0  34.5   7.8292      9  0  1  0           1\n",
              "892          893       3   1  47.0   7.0000      9  0  0  1           2\n",
              "893          894       2   0  62.0   9.6875      9  0  1  0           1\n",
              "894          895       3   0  27.0   8.6625      9  0  0  1           1\n",
              "895          896       3   1  22.0  12.2875      9  0  0  1           3"
            ]
          },
          "metadata": {
            "tags": []
          },
          "execution_count": 44
        }
      ]
    },
    {
      "cell_type": "markdown",
      "metadata": {
        "id": "2UHvkliG1pgG"
      },
      "source": [
        "# Building and Evaluating Model"
      ]
    },
    {
      "cell_type": "code",
      "metadata": {
        "execution": {
          "iopub.status.busy": "2021-05-22T08:58:49.760661Z",
          "iopub.execute_input": "2021-05-22T08:58:49.760996Z",
          "iopub.status.idle": "2021-05-22T08:58:49.766892Z",
          "shell.execute_reply.started": "2021-05-22T08:58:49.760968Z",
          "shell.execute_reply": "2021-05-22T08:58:49.765857Z"
        },
        "trusted": true,
        "id": "5LcI6oeo1pgG"
      },
      "source": [
        "# split independent and dependent variables\n",
        "X_train = train_main.drop('Survived',axis=1) # independent\n",
        "y_train = train_main.Survived # dependent"
      ],
      "execution_count": 46,
      "outputs": []
    },
    {
      "cell_type": "markdown",
      "metadata": {
        "id": "xQsyBGla1pgG"
      },
      "source": [
        "## Scaling Data"
      ]
    },
    {
      "cell_type": "code",
      "metadata": {
        "execution": {
          "iopub.status.busy": "2021-05-22T08:58:50.645436Z",
          "iopub.execute_input": "2021-05-22T08:58:50.645739Z",
          "iopub.status.idle": "2021-05-22T08:58:50.659509Z",
          "shell.execute_reply.started": "2021-05-22T08:58:50.645712Z",
          "shell.execute_reply": "2021-05-22T08:58:50.658576Z"
        },
        "trusted": true,
        "id": "90bWkRvk1pgG"
      },
      "source": [
        "#Scaling our independent variables  with help  StandardScaler\n",
        "from sklearn.preprocessing import StandardScaler \n",
        "scaler = StandardScaler()\n",
        "X_train_scale = scaler.fit_transform(X_train)\n",
        "test_main_scale  = scaler.fit_transform(test_main) "
      ],
      "execution_count": 47,
      "outputs": []
    },
    {
      "cell_type": "markdown",
      "metadata": {
        "execution": {
          "iopub.status.busy": "2021-05-21T14:15:00.231834Z",
          "iopub.execute_input": "2021-05-21T14:15:00.232394Z",
          "iopub.status.idle": "2021-05-21T14:15:00.238311Z",
          "shell.execute_reply.started": "2021-05-21T14:15:00.23227Z",
          "shell.execute_reply": "2021-05-21T14:15:00.237202Z"
        },
        "id": "w8guvnRI1pgH"
      },
      "source": [
        "## LogisticRegression"
      ]
    },
    {
      "cell_type": "code",
      "metadata": {
        "execution": {
          "iopub.status.busy": "2021-05-22T08:58:51.625364Z",
          "iopub.execute_input": "2021-05-22T08:58:51.625714Z",
          "iopub.status.idle": "2021-05-22T08:58:51.642028Z",
          "shell.execute_reply.started": "2021-05-22T08:58:51.625673Z",
          "shell.execute_reply": "2021-05-22T08:58:51.641007Z"
        },
        "trusted": true,
        "colab": {
          "base_uri": "https://localhost:8080/"
        },
        "id": "H08Mqkjy1pgH",
        "outputId": "f66968a2-3543-4e3b-b6e4-566e8be37175"
      },
      "source": [
        "lrc = LogisticRegression()\n",
        "lrc.fit(X_train_scale,y_train)"
      ],
      "execution_count": 48,
      "outputs": [
        {
          "output_type": "execute_result",
          "data": {
            "text/plain": [
              "LogisticRegression(C=1.0, class_weight=None, dual=False, fit_intercept=True,\n",
              "                   intercept_scaling=1, l1_ratio=None, max_iter=100,\n",
              "                   multi_class='auto', n_jobs=None, penalty='l2',\n",
              "                   random_state=None, solver='lbfgs', tol=0.0001, verbose=0,\n",
              "                   warm_start=False)"
            ]
          },
          "metadata": {
            "tags": []
          },
          "execution_count": 48
        }
      ]
    },
    {
      "cell_type": "code",
      "metadata": {
        "execution": {
          "iopub.status.busy": "2021-05-22T08:58:52.015335Z",
          "iopub.execute_input": "2021-05-22T08:58:52.015792Z",
          "iopub.status.idle": "2021-05-22T08:58:52.019985Z",
          "shell.execute_reply.started": "2021-05-22T08:58:52.015763Z",
          "shell.execute_reply": "2021-05-22T08:58:52.01908Z"
        },
        "trusted": true,
        "id": "_-sJWh_j1pgH"
      },
      "source": [
        "y_pred_lrc = lrc.predict(test_main_scale).astype(int)"
      ],
      "execution_count": 49,
      "outputs": []
    },
    {
      "cell_type": "markdown",
      "metadata": {
        "id": "bs18sGOB1pgH"
      },
      "source": [
        "## Support Vector Machine"
      ]
    },
    {
      "cell_type": "code",
      "metadata": {
        "execution": {
          "iopub.status.busy": "2021-05-22T08:58:52.845392Z",
          "iopub.execute_input": "2021-05-22T08:58:52.845749Z",
          "iopub.status.idle": "2021-05-22T08:58:52.882313Z",
          "shell.execute_reply.started": "2021-05-22T08:58:52.845718Z",
          "shell.execute_reply": "2021-05-22T08:58:52.881412Z"
        },
        "trusted": true,
        "colab": {
          "base_uri": "https://localhost:8080/"
        },
        "id": "p9XA1vHp1pgI",
        "outputId": "10728ed1-364c-4148-a5cd-df2f8b66487c"
      },
      "source": [
        "svm = SVC()\n",
        "svm.fit(X_train_scale,y_train)"
      ],
      "execution_count": 50,
      "outputs": [
        {
          "output_type": "execute_result",
          "data": {
            "text/plain": [
              "SVC(C=1.0, break_ties=False, cache_size=200, class_weight=None, coef0=0.0,\n",
              "    decision_function_shape='ovr', degree=3, gamma='scale', kernel='rbf',\n",
              "    max_iter=-1, probability=False, random_state=None, shrinking=True,\n",
              "    tol=0.001, verbose=False)"
            ]
          },
          "metadata": {
            "tags": []
          },
          "execution_count": 50
        }
      ]
    },
    {
      "cell_type": "code",
      "metadata": {
        "execution": {
          "iopub.status.busy": "2021-05-22T08:58:53.206075Z",
          "iopub.execute_input": "2021-05-22T08:58:53.206446Z",
          "iopub.status.idle": "2021-05-22T08:58:53.223117Z",
          "shell.execute_reply.started": "2021-05-22T08:58:53.206416Z",
          "shell.execute_reply": "2021-05-22T08:58:53.222097Z"
        },
        "trusted": true,
        "id": "0BmoGAKg1pgI"
      },
      "source": [
        "y_pred_svm = svm.predict(test_main_scale).astype(int)"
      ],
      "execution_count": 51,
      "outputs": []
    },
    {
      "cell_type": "markdown",
      "metadata": {
        "id": "ZfWQNBfW1pgI"
      },
      "source": [
        "## K-nearest neighbors"
      ]
    },
    {
      "cell_type": "code",
      "metadata": {
        "execution": {
          "iopub.status.busy": "2021-05-22T08:58:53.98576Z",
          "iopub.execute_input": "2021-05-22T08:58:53.986107Z",
          "iopub.status.idle": "2021-05-22T08:58:53.993741Z",
          "shell.execute_reply.started": "2021-05-22T08:58:53.986074Z",
          "shell.execute_reply": "2021-05-22T08:58:53.992772Z"
        },
        "trusted": true,
        "colab": {
          "base_uri": "https://localhost:8080/"
        },
        "id": "gc2LgC6o1pgI",
        "outputId": "ad1e4d1b-4324-4fa6-b3b1-2c70f3b98c76"
      },
      "source": [
        "knn = KNeighborsClassifier()\n",
        "knn.fit(X_train_scale,y_train)"
      ],
      "execution_count": 52,
      "outputs": [
        {
          "output_type": "execute_result",
          "data": {
            "text/plain": [
              "KNeighborsClassifier(algorithm='auto', leaf_size=30, metric='minkowski',\n",
              "                     metric_params=None, n_jobs=None, n_neighbors=5, p=2,\n",
              "                     weights='uniform')"
            ]
          },
          "metadata": {
            "tags": []
          },
          "execution_count": 52
        }
      ]
    },
    {
      "cell_type": "code",
      "metadata": {
        "execution": {
          "iopub.status.busy": "2021-05-22T08:58:54.265751Z",
          "iopub.execute_input": "2021-05-22T08:58:54.266243Z",
          "iopub.status.idle": "2021-05-22T08:58:54.286942Z",
          "shell.execute_reply.started": "2021-05-22T08:58:54.266189Z",
          "shell.execute_reply": "2021-05-22T08:58:54.286054Z"
        },
        "trusted": true,
        "id": "8PcTMIyS1pgI"
      },
      "source": [
        "y_pred_knn = knn.predict(test_main_scale).astype(int)"
      ],
      "execution_count": 53,
      "outputs": []
    },
    {
      "cell_type": "markdown",
      "metadata": {
        "id": "rS4BNFey1pgJ"
      },
      "source": [
        "## Naive Bayes\n"
      ]
    },
    {
      "cell_type": "code",
      "metadata": {
        "execution": {
          "iopub.status.busy": "2021-05-22T08:58:55.025762Z",
          "iopub.execute_input": "2021-05-22T08:58:55.026073Z",
          "iopub.status.idle": "2021-05-22T08:58:55.036018Z",
          "shell.execute_reply.started": "2021-05-22T08:58:55.026046Z",
          "shell.execute_reply": "2021-05-22T08:58:55.035157Z"
        },
        "trusted": true,
        "colab": {
          "base_uri": "https://localhost:8080/"
        },
        "id": "8JUBKKwv1pgJ",
        "outputId": "b7125fa0-1b12-482e-c2b1-5e17e92ba610"
      },
      "source": [
        "nb = GaussianNB()\n",
        "nb.fit(X_train,y_train)"
      ],
      "execution_count": 54,
      "outputs": [
        {
          "output_type": "execute_result",
          "data": {
            "text/plain": [
              "GaussianNB(priors=None, var_smoothing=1e-09)"
            ]
          },
          "metadata": {
            "tags": []
          },
          "execution_count": 54
        }
      ]
    },
    {
      "cell_type": "code",
      "metadata": {
        "execution": {
          "iopub.status.busy": "2021-05-22T08:58:55.340344Z",
          "iopub.execute_input": "2021-05-22T08:58:55.340855Z",
          "iopub.status.idle": "2021-05-22T08:58:55.347926Z",
          "shell.execute_reply.started": "2021-05-22T08:58:55.340812Z",
          "shell.execute_reply": "2021-05-22T08:58:55.347093Z"
        },
        "trusted": true,
        "id": "n6iAUF-M1pgJ"
      },
      "source": [
        "y_pred_nb = nb.predict(test_main).astype(int)"
      ],
      "execution_count": 55,
      "outputs": []
    },
    {
      "cell_type": "markdown",
      "metadata": {
        "id": "vsCyRMWb1pgJ"
      },
      "source": [
        "## Decision Tree"
      ]
    },
    {
      "cell_type": "code",
      "metadata": {
        "execution": {
          "iopub.status.busy": "2021-05-22T08:58:55.930926Z",
          "iopub.execute_input": "2021-05-22T08:58:55.931275Z",
          "iopub.status.idle": "2021-05-22T08:58:55.942881Z",
          "shell.execute_reply.started": "2021-05-22T08:58:55.931234Z",
          "shell.execute_reply": "2021-05-22T08:58:55.942042Z"
        },
        "trusted": true,
        "colab": {
          "base_uri": "https://localhost:8080/"
        },
        "id": "ajntcMiX1pgJ",
        "outputId": "672f1805-84d8-4b81-a016-5f78e5cfc119"
      },
      "source": [
        "dt = DecisionTreeClassifier()\n",
        "dt.fit(X_train,y_train)"
      ],
      "execution_count": 56,
      "outputs": [
        {
          "output_type": "execute_result",
          "data": {
            "text/plain": [
              "DecisionTreeClassifier(ccp_alpha=0.0, class_weight=None, criterion='gini',\n",
              "                       max_depth=None, max_features=None, max_leaf_nodes=None,\n",
              "                       min_impurity_decrease=0.0, min_impurity_split=None,\n",
              "                       min_samples_leaf=1, min_samples_split=2,\n",
              "                       min_weight_fraction_leaf=0.0, presort='deprecated',\n",
              "                       random_state=None, splitter='best')"
            ]
          },
          "metadata": {
            "tags": []
          },
          "execution_count": 56
        }
      ]
    },
    {
      "cell_type": "code",
      "metadata": {
        "execution": {
          "iopub.status.busy": "2021-05-22T08:58:56.380393Z",
          "iopub.execute_input": "2021-05-22T08:58:56.380867Z",
          "iopub.status.idle": "2021-05-22T08:58:56.386542Z",
          "shell.execute_reply.started": "2021-05-22T08:58:56.380825Z",
          "shell.execute_reply": "2021-05-22T08:58:56.385777Z"
        },
        "trusted": true,
        "id": "UaFzTkQY1pgK"
      },
      "source": [
        "y_pred_dt = dt.predict(test_main).astype(int)"
      ],
      "execution_count": 57,
      "outputs": []
    },
    {
      "cell_type": "markdown",
      "metadata": {
        "id": "kM0c_DjK1pgK"
      },
      "source": [
        "## RandomForest"
      ]
    },
    {
      "cell_type": "code",
      "metadata": {
        "execution": {
          "iopub.status.busy": "2021-05-22T08:58:57.215989Z",
          "iopub.execute_input": "2021-05-22T08:58:57.216328Z",
          "iopub.status.idle": "2021-05-22T08:58:57.421746Z",
          "shell.execute_reply.started": "2021-05-22T08:58:57.216299Z",
          "shell.execute_reply": "2021-05-22T08:58:57.420712Z"
        },
        "trusted": true,
        "colab": {
          "base_uri": "https://localhost:8080/"
        },
        "id": "sNIxPHNb1pgK",
        "outputId": "1807c94c-2e72-439c-ac47-a9167a01176c"
      },
      "source": [
        "rf = RandomForestClassifier()\n",
        "rf.fit(X_train,y_train)"
      ],
      "execution_count": 58,
      "outputs": [
        {
          "output_type": "execute_result",
          "data": {
            "text/plain": [
              "RandomForestClassifier(bootstrap=True, ccp_alpha=0.0, class_weight=None,\n",
              "                       criterion='gini', max_depth=None, max_features='auto',\n",
              "                       max_leaf_nodes=None, max_samples=None,\n",
              "                       min_impurity_decrease=0.0, min_impurity_split=None,\n",
              "                       min_samples_leaf=1, min_samples_split=2,\n",
              "                       min_weight_fraction_leaf=0.0, n_estimators=100,\n",
              "                       n_jobs=None, oob_score=False, random_state=None,\n",
              "                       verbose=0, warm_start=False)"
            ]
          },
          "metadata": {
            "tags": []
          },
          "execution_count": 58
        }
      ]
    },
    {
      "cell_type": "code",
      "metadata": {
        "execution": {
          "iopub.status.busy": "2021-05-22T08:58:57.810665Z",
          "iopub.execute_input": "2021-05-22T08:58:57.81112Z",
          "iopub.status.idle": "2021-05-22T08:58:57.831894Z",
          "shell.execute_reply.started": "2021-05-22T08:58:57.81109Z",
          "shell.execute_reply": "2021-05-22T08:58:57.831244Z"
        },
        "trusted": true,
        "id": "ABsIY7Ji1pgK"
      },
      "source": [
        "y_pred_rf = rf.predict(test_main).astype(int)"
      ],
      "execution_count": 59,
      "outputs": []
    },
    {
      "cell_type": "markdown",
      "metadata": {
        "id": "iI_0MN471pgK"
      },
      "source": [
        "## GradientBoostingClassifier"
      ]
    },
    {
      "cell_type": "code",
      "metadata": {
        "execution": {
          "iopub.status.busy": "2021-05-22T08:58:58.465442Z",
          "iopub.execute_input": "2021-05-22T08:58:58.465905Z",
          "iopub.status.idle": "2021-05-22T08:58:58.602678Z",
          "shell.execute_reply.started": "2021-05-22T08:58:58.465872Z",
          "shell.execute_reply": "2021-05-22T08:58:58.601767Z"
        },
        "trusted": true,
        "colab": {
          "base_uri": "https://localhost:8080/"
        },
        "id": "x5gifp8N1pgL",
        "outputId": "a517970a-2382-43c1-c328-8e4d8420e8d6"
      },
      "source": [
        "gbc = GradientBoostingClassifier()\n",
        "gbc.fit(X_train,y_train)"
      ],
      "execution_count": 60,
      "outputs": [
        {
          "output_type": "execute_result",
          "data": {
            "text/plain": [
              "GradientBoostingClassifier(ccp_alpha=0.0, criterion='friedman_mse', init=None,\n",
              "                           learning_rate=0.1, loss='deviance', max_depth=3,\n",
              "                           max_features=None, max_leaf_nodes=None,\n",
              "                           min_impurity_decrease=0.0, min_impurity_split=None,\n",
              "                           min_samples_leaf=1, min_samples_split=2,\n",
              "                           min_weight_fraction_leaf=0.0, n_estimators=100,\n",
              "                           n_iter_no_change=None, presort='deprecated',\n",
              "                           random_state=None, subsample=1.0, tol=0.0001,\n",
              "                           validation_fraction=0.1, verbose=0,\n",
              "                           warm_start=False)"
            ]
          },
          "metadata": {
            "tags": []
          },
          "execution_count": 60
        }
      ]
    },
    {
      "cell_type": "code",
      "metadata": {
        "execution": {
          "iopub.status.busy": "2021-05-22T08:58:59.075564Z",
          "iopub.execute_input": "2021-05-22T08:58:59.075903Z",
          "iopub.status.idle": "2021-05-22T08:58:59.082604Z",
          "shell.execute_reply.started": "2021-05-22T08:58:59.075875Z",
          "shell.execute_reply": "2021-05-22T08:58:59.081823Z"
        },
        "trusted": true,
        "id": "QoavDtXo1pgL"
      },
      "source": [
        "y_pred_gbc = gbc.predict(test_main).astype(int)"
      ],
      "execution_count": 61,
      "outputs": []
    },
    {
      "cell_type": "markdown",
      "metadata": {
        "id": "BlywdcGE1pgL"
      },
      "source": [
        "## XGBClassifier"
      ]
    },
    {
      "cell_type": "code",
      "metadata": {
        "execution": {
          "iopub.status.busy": "2021-05-22T08:59:00.007759Z",
          "iopub.execute_input": "2021-05-22T08:59:00.008237Z",
          "iopub.status.idle": "2021-05-22T08:59:00.049025Z",
          "shell.execute_reply.started": "2021-05-22T08:59:00.008188Z",
          "shell.execute_reply": "2021-05-22T08:59:00.047998Z"
        },
        "trusted": true,
        "colab": {
          "base_uri": "https://localhost:8080/"
        },
        "id": "aQlfdSzn1pgL",
        "outputId": "0d1e0259-5de1-4dab-9c10-ef0f2df612e8"
      },
      "source": [
        "xgb = XGBClassifier(colsample_bylevel= 0.9,\n",
        "                    colsample_bytree = 0.8, \n",
        "                    gamma=0.99,\n",
        "                    max_depth= 5,\n",
        "                    min_child_weight= 1,\n",
        "                    n_estimators= 8,\n",
        "                    nthread= 5,\n",
        "                    random_state= 0,\n",
        "                    )\n",
        "xgb.fit(X_train_scale,y_train)"
      ],
      "execution_count": 62,
      "outputs": [
        {
          "output_type": "stream",
          "text": [
            "[12:03:56] WARNING: ../src/learner.cc:1095: Starting in XGBoost 1.3.0, the default evaluation metric used with the objective 'binary:logistic' was changed from 'error' to 'logloss'. Explicitly set eval_metric if you'd like to restore the old behavior.\n"
          ],
          "name": "stdout"
        },
        {
          "output_type": "execute_result",
          "data": {
            "text/plain": [
              "XGBClassifier(base_score=0.5, booster='gbtree', colsample_bylevel=0.9,\n",
              "              colsample_bynode=1, colsample_bytree=0.8, gamma=0.99, gpu_id=-1,\n",
              "              importance_type='gain', interaction_constraints='',\n",
              "              learning_rate=0.300000012, max_delta_step=0, max_depth=5,\n",
              "              min_child_weight=1, missing=nan, monotone_constraints='()',\n",
              "              n_estimators=8, n_jobs=5, nthread=5, num_parallel_tree=1,\n",
              "              objective='binary:logistic', random_state=0, reg_alpha=0,\n",
              "              reg_lambda=1, scale_pos_weight=1, subsample=1,\n",
              "              tree_method='exact', use_label_encoder=True,\n",
              "              validate_parameters=1, verbosity=None)"
            ]
          },
          "metadata": {
            "tags": []
          },
          "execution_count": 62
        }
      ]
    },
    {
      "cell_type": "code",
      "metadata": {
        "execution": {
          "iopub.status.busy": "2021-05-22T08:59:00.425576Z",
          "iopub.execute_input": "2021-05-22T08:59:00.425975Z",
          "iopub.status.idle": "2021-05-22T08:59:00.432205Z",
          "shell.execute_reply.started": "2021-05-22T08:59:00.425936Z",
          "shell.execute_reply": "2021-05-22T08:59:00.43133Z"
        },
        "trusted": true,
        "id": "1U09pde51pgM"
      },
      "source": [
        "y_pred_xgb = xgb.predict(test_main_scale).astype(int)"
      ],
      "execution_count": 63,
      "outputs": []
    },
    {
      "cell_type": "markdown",
      "metadata": {
        "id": "nBoyz56g1pgM"
      },
      "source": [
        "## Output\n",
        "### Saving output as .csv file"
      ]
    },
    {
      "cell_type": "code",
      "metadata": {
        "execution": {
          "iopub.status.busy": "2021-05-22T08:59:01.52068Z",
          "iopub.execute_input": "2021-05-22T08:59:01.521036Z",
          "iopub.status.idle": "2021-05-22T08:59:01.529866Z",
          "shell.execute_reply.started": "2021-05-22T08:59:01.521005Z",
          "shell.execute_reply": "2021-05-22T08:59:01.528836Z"
        },
        "trusted": true,
        "colab": {
          "base_uri": "https://localhost:8080/",
          "height": 419
        },
        "id": "FfSzUNLM1pgM",
        "outputId": "48862f35-90ff-4704-984c-e91732948a0f"
      },
      "source": [
        "final_data_1 = {'PassengerId': test_main.PassengerId, 'Survived': y_pred_xgb}\n",
        "submission_1 = pd.DataFrame(data=final_data_1)\n",
        "submission_1.head()"
      ],
      "execution_count": 65,
      "outputs": [
        {
          "output_type": "execute_result",
          "data": {
            "text/html": [
              "<div>\n",
              "<style scoped>\n",
              "    .dataframe tbody tr th:only-of-type {\n",
              "        vertical-align: middle;\n",
              "    }\n",
              "\n",
              "    .dataframe tbody tr th {\n",
              "        vertical-align: top;\n",
              "    }\n",
              "\n",
              "    .dataframe thead th {\n",
              "        text-align: right;\n",
              "    }\n",
              "</style>\n",
              "<table border=\"1\" class=\"dataframe\">\n",
              "  <thead>\n",
              "    <tr style=\"text-align: right;\">\n",
              "      <th></th>\n",
              "      <th>PassengerId</th>\n",
              "      <th>Survived</th>\n",
              "    </tr>\n",
              "  </thead>\n",
              "  <tbody>\n",
              "    <tr>\n",
              "      <th>891</th>\n",
              "      <td>892</td>\n",
              "      <td>0</td>\n",
              "    </tr>\n",
              "    <tr>\n",
              "      <th>892</th>\n",
              "      <td>893</td>\n",
              "      <td>0</td>\n",
              "    </tr>\n",
              "    <tr>\n",
              "      <th>893</th>\n",
              "      <td>894</td>\n",
              "      <td>0</td>\n",
              "    </tr>\n",
              "    <tr>\n",
              "      <th>894</th>\n",
              "      <td>895</td>\n",
              "      <td>0</td>\n",
              "    </tr>\n",
              "    <tr>\n",
              "      <th>895</th>\n",
              "      <td>896</td>\n",
              "      <td>1</td>\n",
              "    </tr>\n",
              "    <tr>\n",
              "      <th>...</th>\n",
              "      <td>...</td>\n",
              "      <td>...</td>\n",
              "    </tr>\n",
              "    <tr>\n",
              "      <th>1304</th>\n",
              "      <td>1305</td>\n",
              "      <td>0</td>\n",
              "    </tr>\n",
              "    <tr>\n",
              "      <th>1305</th>\n",
              "      <td>1306</td>\n",
              "      <td>1</td>\n",
              "    </tr>\n",
              "    <tr>\n",
              "      <th>1306</th>\n",
              "      <td>1307</td>\n",
              "      <td>0</td>\n",
              "    </tr>\n",
              "    <tr>\n",
              "      <th>1307</th>\n",
              "      <td>1308</td>\n",
              "      <td>0</td>\n",
              "    </tr>\n",
              "    <tr>\n",
              "      <th>1308</th>\n",
              "      <td>1309</td>\n",
              "      <td>0</td>\n",
              "    </tr>\n",
              "  </tbody>\n",
              "</table>\n",
              "<p>418 rows × 2 columns</p>\n",
              "</div>"
            ],
            "text/plain": [
              "      PassengerId  Survived\n",
              "891           892         0\n",
              "892           893         0\n",
              "893           894         0\n",
              "894           895         0\n",
              "895           896         1\n",
              "...           ...       ...\n",
              "1304         1305         0\n",
              "1305         1306         1\n",
              "1306         1307         0\n",
              "1307         1308         0\n",
              "1308         1309         0\n",
              "\n",
              "[418 rows x 2 columns]"
            ]
          },
          "metadata": {
            "tags": []
          },
          "execution_count": 65
        }
      ]
    },
    {
      "cell_type": "code",
      "metadata": {
        "id": "cQeeUFQ81pgM"
      },
      "source": [
        ""
      ],
      "execution_count": null,
      "outputs": []
    },
    {
      "cell_type": "code",
      "metadata": {
        "id": "kQQsQSpK1pgM"
      },
      "source": [
        ""
      ],
      "execution_count": null,
      "outputs": []
    }
  ]
}